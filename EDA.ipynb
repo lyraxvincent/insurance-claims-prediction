{
 "cells": [
  {
   "cell_type": "markdown",
   "id": "correct-celebration",
   "metadata": {},
   "source": [
    "**<h1>Exploratory Data Analysis</h1>**\n",
    "We'll cover EDA alongside data cleaning and feature engineering, cleaning the data as we gain insights and data trends exhibited by the data, and adding more derived features to explore the data further (eg year feature from date columns).  \n",
    "This notebook will cover the following in order:  \n",
    "- **EDA and Data Cleaning**\n",
    "- **Missing data imputation**\n",
    "- **Feature engineering**"
   ]
  },
  {
   "cell_type": "code",
   "execution_count": 1,
   "id": "considerable-insider",
   "metadata": {},
   "outputs": [],
   "source": [
    "# Import necessary libraries\n",
    "import numpy as np\n",
    "import pandas as pd\n",
    "\n",
    "import matplotlib.pyplot as plt\n",
    "%matplotlib inline\n",
    "plt.style.use(\"/home/lyrax/matplotlib-dracula/dracula.mplstyle\")\n",
    "import seaborn as sns\n",
    "\n",
    "from tqdm import tqdm, trange"
   ]
  },
  {
   "cell_type": "code",
   "execution_count": 3,
   "id": "dimensional-amendment",
   "metadata": {},
   "outputs": [
    {
     "data": {
      "text/html": [
       "<div>\n",
       "<style scoped>\n",
       "    .dataframe tbody tr th:only-of-type {\n",
       "        vertical-align: middle;\n",
       "    }\n",
       "\n",
       "    .dataframe tbody tr th {\n",
       "        vertical-align: top;\n",
       "    }\n",
       "\n",
       "    .dataframe thead th {\n",
       "        text-align: right;\n",
       "    }\n",
       "</style>\n",
       "<table border=\"1\" class=\"dataframe\">\n",
       "  <thead>\n",
       "    <tr style=\"text-align: right;\">\n",
       "      <th></th>\n",
       "      <th>Serial Number</th>\n",
       "      <th>claim_status</th>\n",
       "      <th>provider_type</th>\n",
       "      <th>provider_region</th>\n",
       "      <th>program_type</th>\n",
       "      <th>program_cover</th>\n",
       "      <th>participant_date_of_birth</th>\n",
       "      <th>participant_gender</th>\n",
       "      <th>treatment_created_date</th>\n",
       "      <th>claim_finalized_date</th>\n",
       "      <th>item_status</th>\n",
       "      <th>item_name</th>\n",
       "      <th>item_amount</th>\n",
       "      <th>item_currency</th>\n",
       "      <th>item_quantity</th>\n",
       "      <th>total_item_amount</th>\n",
       "      <th>diagnoses</th>\n",
       "      <th>treatment_type</th>\n",
       "    </tr>\n",
       "  </thead>\n",
       "  <tbody>\n",
       "    <tr>\n",
       "      <th>122357</th>\n",
       "      <td>201401.0</td>\n",
       "      <td>Approved</td>\n",
       "      <td>Clinic</td>\n",
       "      <td>NAIROBI</td>\n",
       "      <td>Insurance</td>\n",
       "      <td>OUT-PATIENT</td>\n",
       "      <td>2009-09-05</td>\n",
       "      <td>MALE</td>\n",
       "      <td>2021-03-17 14:23:27</td>\n",
       "      <td>2021-03-25 10:53:07</td>\n",
       "      <td>APPROVED</td>\n",
       "      <td>Panadol advance 500mg Tablets 20s</td>\n",
       "      <td>5.0</td>\n",
       "      <td>KES</td>\n",
       "      <td>10</td>\n",
       "      <td>50.0</td>\n",
       "      <td>Plasmodium falciparum malaria(uncomplicated)</td>\n",
       "      <td>OUTPATIENT</td>\n",
       "    </tr>\n",
       "    <tr>\n",
       "      <th>30371</th>\n",
       "      <td>190171.0</td>\n",
       "      <td>Approved</td>\n",
       "      <td>NaN</td>\n",
       "      <td>KISUMU</td>\n",
       "      <td>Insurance</td>\n",
       "      <td>OUT-PATIENT</td>\n",
       "      <td>1976-01-01</td>\n",
       "      <td>MALE</td>\n",
       "      <td>2021-03-03 10:55:25</td>\n",
       "      <td>2021-03-03 11:01:11</td>\n",
       "      <td>APPROVED</td>\n",
       "      <td>Consultation  - Specialist</td>\n",
       "      <td>1410.0</td>\n",
       "      <td>KES</td>\n",
       "      <td>1</td>\n",
       "      <td>1410.0</td>\n",
       "      <td>Insulin-dependent diabetes mellitus</td>\n",
       "      <td>OUTPATIENT</td>\n",
       "    </tr>\n",
       "    <tr>\n",
       "      <th>131594</th>\n",
       "      <td>198453.0</td>\n",
       "      <td>Approved</td>\n",
       "      <td>Clinic</td>\n",
       "      <td>NAIROBI</td>\n",
       "      <td>Insurance</td>\n",
       "      <td>OUT-PATIENT</td>\n",
       "      <td>1985-12-31</td>\n",
       "      <td>MALE</td>\n",
       "      <td>2021-03-17 10:22:56</td>\n",
       "      <td>2021-03-17 18:13:58</td>\n",
       "      <td>APPROVED</td>\n",
       "      <td>Fenplus 400/325mg Tablets 30s</td>\n",
       "      <td>35.0</td>\n",
       "      <td>KES</td>\n",
       "      <td>10</td>\n",
       "      <td>350.0</td>\n",
       "      <td>Acute nasopharyngitis [common cold]</td>\n",
       "      <td>OUTPATIENT</td>\n",
       "    </tr>\n",
       "  </tbody>\n",
       "</table>\n",
       "</div>"
      ],
      "text/plain": [
       "        Serial Number claim_status provider_type provider_region program_type  \\\n",
       "122357       201401.0     Approved        Clinic         NAIROBI    Insurance   \n",
       "30371        190171.0     Approved           NaN          KISUMU    Insurance   \n",
       "131594       198453.0     Approved        Clinic         NAIROBI    Insurance   \n",
       "\n",
       "       program_cover participant_date_of_birth participant_gender  \\\n",
       "122357   OUT-PATIENT                2009-09-05               MALE   \n",
       "30371    OUT-PATIENT                1976-01-01               MALE   \n",
       "131594   OUT-PATIENT                1985-12-31               MALE   \n",
       "\n",
       "       treatment_created_date claim_finalized_date item_status  \\\n",
       "122357    2021-03-17 14:23:27  2021-03-25 10:53:07    APPROVED   \n",
       "30371     2021-03-03 10:55:25  2021-03-03 11:01:11    APPROVED   \n",
       "131594    2021-03-17 10:22:56  2021-03-17 18:13:58    APPROVED   \n",
       "\n",
       "                                item_name  item_amount item_currency  \\\n",
       "122357  Panadol advance 500mg Tablets 20s          5.0           KES   \n",
       "30371          Consultation  - Specialist       1410.0           KES   \n",
       "131594      Fenplus 400/325mg Tablets 30s         35.0           KES   \n",
       "\n",
       "        item_quantity  total_item_amount  \\\n",
       "122357             10               50.0   \n",
       "30371               1             1410.0   \n",
       "131594             10              350.0   \n",
       "\n",
       "                                           diagnoses treatment_type  \n",
       "122357  Plasmodium falciparum malaria(uncomplicated)     OUTPATIENT  \n",
       "30371            Insulin-dependent diabetes mellitus     OUTPATIENT  \n",
       "131594           Acute nasopharyngitis [common cold]     OUTPATIENT  "
      ]
     },
     "execution_count": 3,
     "metadata": {},
     "output_type": "execute_result"
    }
   ],
   "source": [
    "data = pd.read_excel(\"data/Claims Data 2.xlsx\", parse_dates=['participant_date_of_birth', 'treatment_created_date',\n",
    "                                                             'claim_finalized_date'])\n",
    "data.sample(3)"
   ]
  },
  {
   "cell_type": "code",
   "execution_count": 4,
   "id": "square-cliff",
   "metadata": {},
   "outputs": [
    {
     "data": {
      "text/plain": [
       "(170995, 18)"
      ]
     },
     "execution_count": 4,
     "metadata": {},
     "output_type": "execute_result"
    }
   ],
   "source": [
    "# shape of dataset\n",
    "data.shape"
   ]
  },
  {
   "cell_type": "code",
   "execution_count": 5,
   "id": "temporal-gardening",
   "metadata": {},
   "outputs": [
    {
     "name": "stdout",
     "output_type": "stream",
     "text": [
      "<class 'pandas.core.frame.DataFrame'>\n",
      "RangeIndex: 170995 entries, 0 to 170994\n",
      "Data columns (total 18 columns):\n",
      " #   Column                     Non-Null Count   Dtype         \n",
      "---  ------                     --------------   -----         \n",
      " 0   Serial Number              170321 non-null  float64       \n",
      " 1   claim_status               170995 non-null  object        \n",
      " 2   provider_type              144502 non-null  object        \n",
      " 3   provider_region            167860 non-null  object        \n",
      " 4   program_type               170995 non-null  object        \n",
      " 5   program_cover              170995 non-null  object        \n",
      " 6   participant_date_of_birth  170989 non-null  datetime64[ns]\n",
      " 7   participant_gender         170989 non-null  object        \n",
      " 8   treatment_created_date     170995 non-null  datetime64[ns]\n",
      " 9   claim_finalized_date       154567 non-null  datetime64[ns]\n",
      " 10  item_status                170995 non-null  object        \n",
      " 11  item_name                  170995 non-null  object        \n",
      " 12  item_amount                170995 non-null  float64       \n",
      " 13  item_currency              170995 non-null  object        \n",
      " 14  item_quantity              170995 non-null  int64         \n",
      " 15  total_item_amount          170995 non-null  float64       \n",
      " 16  diagnoses                  166207 non-null  object        \n",
      " 17  treatment_type             170995 non-null  object        \n",
      "dtypes: datetime64[ns](3), float64(3), int64(1), object(11)\n",
      "memory usage: 23.5+ MB\n"
     ]
    }
   ],
   "source": [
    "# info\n",
    "data.info()"
   ]
  },
  {
   "cell_type": "code",
   "execution_count": 6,
   "id": "proud-orange",
   "metadata": {},
   "outputs": [
    {
     "data": {
      "text/plain": [
       "Serial Number                 0.394164\n",
       "claim_status                  0.000000\n",
       "provider_type                15.493435\n",
       "provider_region               1.833387\n",
       "program_type                  0.000000\n",
       "program_cover                 0.000000\n",
       "participant_date_of_birth     0.003509\n",
       "participant_gender            0.003509\n",
       "treatment_created_date        0.000000\n",
       "claim_finalized_date          9.607298\n",
       "item_status                   0.000000\n",
       "item_name                     0.000000\n",
       "item_amount                   0.000000\n",
       "item_currency                 0.000000\n",
       "item_quantity                 0.000000\n",
       "total_item_amount             0.000000\n",
       "diagnoses                     2.800082\n",
       "treatment_type                0.000000\n",
       "dtype: float64"
      ]
     },
     "execution_count": 6,
     "metadata": {},
     "output_type": "execute_result"
    }
   ],
   "source": [
    "# missing data statistics as percentage\n",
    "data.isnull().sum() *100 / len(data)"
   ]
  },
  {
   "cell_type": "code",
   "execution_count": 7,
   "id": "opponent-description",
   "metadata": {},
   "outputs": [
    {
     "data": {
      "text/plain": [
       "52187"
      ]
     },
     "execution_count": 7,
     "metadata": {},
     "output_type": "execute_result"
    }
   ],
   "source": [
    "# Serial number\n",
    "data['Serial Number'].nunique()"
   ]
  },
  {
   "cell_type": "code",
   "execution_count": 8,
   "id": "noble-costume",
   "metadata": {},
   "outputs": [
    {
     "data": {
      "text/plain": [
       "170995"
      ]
     },
     "execution_count": 8,
     "metadata": {},
     "output_type": "execute_result"
    }
   ],
   "source": [
    "len(data)"
   ]
  },
  {
   "cell_type": "markdown",
   "id": "described-square",
   "metadata": {},
   "source": [
    "Serial number column seems to be an identity column representing the customer in question.  \n",
    "So the data covers information of 52187 customers."
   ]
  },
  {
   "cell_type": "code",
   "execution_count": 9,
   "id": "basic-indonesia",
   "metadata": {},
   "outputs": [
    {
     "name": "stdout",
     "output_type": "stream",
     "text": [
      "Approved             153549\n",
      "Submitted              7392\n",
      "PartiallyRejected      5978\n",
      "ReSubmitted            3058\n",
      "Rejected               1018\n",
      "Name: claim_status, dtype: int64\n"
     ]
    },
    {
     "data": {
      "text/plain": [
       "<AxesSubplot:xlabel='count', ylabel='claim_status'>"
      ]
     },
     "execution_count": 9,
     "metadata": {},
     "output_type": "execute_result"
    },
    {
     "data": {
      "image/png": "[encoded data removed]",
      "text/plain": [
       "<Figure size 576x432 with 1 Axes>"
      ]
     },
     "metadata": {},
     "output_type": "display_data"
    }
   ],
   "source": [
    "# claim status distribution\n",
    "print(data.claim_status.value_counts())\n",
    "plt.figure(figsize=(8,6))\n",
    "sns.countplot(y=data.claim_status)"
   ]
  },
  {
   "cell_type": "markdown",
   "id": "conscious-prison",
   "metadata": {},
   "source": [
    "Let's mark the status as _Approved_ or _Not Approved_ as this is the information the company will ultimately require to know, whether an insurance claim is either approved or not."
   ]
  },
  {
   "cell_type": "code",
   "execution_count": 10,
   "id": "saving-attendance",
   "metadata": {},
   "outputs": [
    {
     "name": "stdout",
     "output_type": "stream",
     "text": [
      "Approved        153549\n",
      "Not Approved     17446\n",
      "Name: claim_status, dtype: int64\n"
     ]
    },
    {
     "data": {
      "text/plain": [
       "<AxesSubplot:xlabel='claim_status', ylabel='count'>"
      ]
     },
     "execution_count": 10,
     "metadata": {},
     "output_type": "execute_result"
    },
    {
     "data": {
      "image/png": "[encoded data removed]",
      "text/plain": [
       "<Figure size 576x432 with 1 Axes>"
      ]
     },
     "metadata": {},
     "output_type": "display_data"
    }
   ],
   "source": [
    "data.claim_status.replace(['ReSubmitted', 'Submitted', 'PartiallyRejected', 'Rejected'], 'Not Approved', inplace=True)\n",
    "print(data.claim_status.value_counts())\n",
    "plt.figure(figsize=(8,6))\n",
    "sns.countplot(x=data.claim_status)"
   ]
  },
  {
   "cell_type": "markdown",
   "id": "political-december",
   "metadata": {},
   "source": [
    "We can see the imbalance in these two categories. We'll have to consider and be cautious of this imbalance while building a claim status classifier.  \n",
    "We may consider one of the following techniques(after trying all and comparing the results):  \n",
    "- Oversampling\n",
    "- Undersampling\n",
    "- A mixture of both oversampling and undersampling"
   ]
  },
  {
   "cell_type": "code",
   "execution_count": 11,
   "id": "south-rwanda",
   "metadata": {},
   "outputs": [
    {
     "name": "stdout",
     "output_type": "stream",
     "text": [
      "Clinic                         106374\n",
      "Hospital                        15369\n",
      "Medical Clinic/ Centre           5891\n",
      "Specialist                       4868\n",
      "Medical Centre                   4681\n",
      "Health Centre                    3706\n",
      "Nursing Home                     2052\n",
      "Medical Clinic                    833\n",
      "Clinic, Level 1                   281\n",
      "Maternity And Nursing Home        241\n",
      "Primary Hospital-Category 2        85\n",
      "Dentists                           76\n",
      "Pharmacy                           30\n",
      "Radiology Unit                     15\n",
      "Name: provider_type, dtype: int64\n"
     ]
    },
    {
     "data": {
      "text/plain": [
       "<AxesSubplot:xlabel='count', ylabel='provider_type'>"
      ]
     },
     "execution_count": 11,
     "metadata": {},
     "output_type": "execute_result"
    },
    {
     "data": {
      "image/png": "[encoded data removed]",
      "text/plain": [
       "<Figure size 576x720 with 1 Axes>"
      ]
     },
     "metadata": {},
     "output_type": "display_data"
    }
   ],
   "source": [
    "# provider type\n",
    "print(data.provider_type.value_counts())\n",
    "plt.figure(figsize=(8,10))\n",
    "sns.countplot(y=data.provider_type)"
   ]
  },
  {
   "cell_type": "markdown",
   "id": "parliamentary-trademark",
   "metadata": {},
   "source": [
    "Let's correct the redundancy:"
   ]
  },
  {
   "cell_type": "code",
   "execution_count": 12,
   "id": "handmade-nylon",
   "metadata": {},
   "outputs": [
    {
     "name": "stdout",
     "output_type": "stream",
     "text": [
      "Clinic            121766\n",
      "Hospital           17747\n",
      "Specialist          4868\n",
      "Dentists              76\n",
      "Pharmacy              30\n",
      "Radiology Unit        15\n",
      "Name: provider_type, dtype: int64\n"
     ]
    },
    {
     "data": {
      "text/plain": [
       "<AxesSubplot:xlabel='count', ylabel='provider_type'>"
      ]
     },
     "execution_count": 12,
     "metadata": {},
     "output_type": "execute_result"
    },
    {
     "data": {
      "image/png": "[encoded data removed]",
      "text/plain": [
       "<Figure size 576x576 with 1 Axes>"
      ]
     },
     "metadata": {},
     "output_type": "display_data"
    }
   ],
   "source": [
    "data.provider_type.replace(['Medical Clinic/ Centre', 'Medical Clinic', 'Clinic, Level 1', 'Medical Centre', 'Health Centre'],\n",
    "                           'Clinic', inplace=True)\n",
    "data.provider_type.replace(['Nursing Home', 'Maternity And Nursing Home', 'Primary Hospital-Category 2'], 'Hospital', inplace=True)\n",
    "\n",
    "print(data.provider_type.value_counts())\n",
    "plt.figure(figsize=(8,8))\n",
    "sns.countplot(y=data.provider_type)"
   ]
  },
  {
   "cell_type": "code",
   "execution_count": 13,
   "id": "medieval-wilson",
   "metadata": {},
   "outputs": [
    {
     "name": "stdout",
     "output_type": "stream",
     "text": [
      "Number of regions: 46\n",
      "\n",
      "NAIROBI            69785\n",
      "MOMBASA            15038\n",
      "KISUMU              9964\n",
      "KIAMBU              8480\n",
      "KAKAMEGA            6596\n",
      "NAKURU              4621\n",
      "BUNGOMA             4553\n",
      "KAJIADO             4206\n",
      "TRANS-NZOIA         4073\n",
      "UASIN GISHU         4033\n",
      "KISII               2954\n",
      "KERICHO             2816\n",
      "NYERI               2611\n",
      "MIGORI              2529\n",
      "MACHAKOS            2448\n",
      "KILIFI              2289\n",
      "NANDI               2198\n",
      "LAIKIPIA            2017\n",
      "MERU                1861\n",
      "GARISSA             1450\n",
      "BUSIA               1428\n",
      "SIAYA               1326\n",
      "EMBU                1297\n",
      "HOMABAY             1264\n",
      "BARINGO             1242\n",
      "KIRINYAGA           1125\n",
      "TAITA-TAVETA        1025\n",
      "KITUI                924\n",
      "TURKANA              606\n",
      "BOMET                397\n",
      "MAKUENI              383\n",
      "ISIOLO               359\n",
      "WAJIR                342\n",
      "KWALE                313\n",
      "MURANG'A\\n           285\n",
      "VIHIGA               245\n",
      "NAROK                211\n",
      "WEST POKOT           137\n",
      "MARSABIT             115\n",
      "THARAKA-NITHI         86\n",
      "LAMU                  74\n",
      "NYAMIRA               60\n",
      "SAMBURU               35\n",
      "ELGEYO-MARAKWET       25\n",
      "NYANDARUA             25\n",
      "MANDERA                9\n",
      "Name: provider_region, dtype: int64\n"
     ]
    }
   ],
   "source": [
    "# provider region\n",
    "print(f\"Number of regions: {data.provider_region.nunique()}\\n\")\n",
    "print(data.provider_region.value_counts())"
   ]
  },
  {
   "cell_type": "markdown",
   "id": "corrected-douglas",
   "metadata": {},
   "source": [
    "Region clearly represents counties."
   ]
  },
  {
   "cell_type": "code",
   "execution_count": 14,
   "id": "comparable-orbit",
   "metadata": {},
   "outputs": [],
   "source": [
    "# correct error in MURANG'A listing\n",
    "data.provider_region.replace(\"MURANG'A\\n\", \"MURANG'A\", inplace=True)"
   ]
  },
  {
   "cell_type": "code",
   "execution_count": 15,
   "id": "dated-cleveland",
   "metadata": {},
   "outputs": [
    {
     "data": {
      "text/plain": [
       "Insurance    170995\n",
       "Name: program_type, dtype: int64"
      ]
     },
     "execution_count": 15,
     "metadata": {},
     "output_type": "execute_result"
    }
   ],
   "source": [
    "# program type\n",
    "data.program_type.value_counts()"
   ]
  },
  {
   "cell_type": "code",
   "execution_count": 16,
   "id": "broad-gazette",
   "metadata": {},
   "outputs": [],
   "source": [
    "# drop the program type column as it has only one unique value\n",
    "data.drop('program_type', axis=1, inplace=True)"
   ]
  },
  {
   "cell_type": "code",
   "execution_count": 17,
   "id": "adolescent-consortium",
   "metadata": {},
   "outputs": [
    {
     "data": {
      "text/plain": [
       "OUT-PATIENT                                           124976\n",
       "OUTPATIENT                                             27489\n",
       "Outpatient                                              5243\n",
       "DENTAL                                                  4235\n",
       "OPTICAL                                                 2875\n",
       "outpatient                                              2135\n",
       "AAR - OP                                                1281\n",
       "OUT-PATIENT                                              965\n",
       "Out-Patient                                              296\n",
       "OUTPATIENT                                               223\n",
       "Dental                                                   205\n",
       "Out Patient                                              201\n",
       "ANNUAL MEDICAL CHECK-UP                                  165\n",
       "SPECTACLE FRAME                                          150\n",
       "Optical                                                  115\n",
       "BABY FRIENDLY VACCINES / WELL BABY CLINIC                 93\n",
       "OUTPATIENT                                                89\n",
       "AAR - Dental                                              51\n",
       "AAR-Outpatient                                            31\n",
       "ANNUAL_CHECKUP                                            31\n",
       "ANNUAL_CHECK-UP                                           24\n",
       "dental                                                    18\n",
       "Annual check up                                           16\n",
       "AAR- Checkup                                              15\n",
       "Well Baby Clinic                                          12\n",
       "AAR - Optical                                             11\n",
       "VACCINES - PRIVATE VACCINES                               11\n",
       "ANNUAL MEDICAL CHECK-UP FOR MAIN MEMBER / EMPLOYEE        10\n",
       "MATERNITY                                                  7\n",
       "Baby Friendly                                              5\n",
       "BABY FRIENDLY VACCINES                                     5\n",
       "AAR - Spectacle Frame                                      5\n",
       "ANNUAL MEDICAL CHECK-UP at AAR healthcare clinics          3\n",
       "ANNUAL CHECKUP                                             2\n",
       "optical                                                    2\n",
       "Name: program_cover, dtype: int64"
      ]
     },
     "execution_count": 17,
     "metadata": {},
     "output_type": "execute_result"
    }
   ],
   "source": [
    "# program cover\n",
    "data.program_cover.value_counts()"
   ]
  },
  {
   "cell_type": "markdown",
   "id": "cardiovascular-authorization",
   "metadata": {},
   "source": [
    "Remove redundancy:"
   ]
  },
  {
   "cell_type": "code",
   "execution_count": 18,
   "id": "outstanding-progress",
   "metadata": {},
   "outputs": [
    {
     "data": {
      "text/plain": [
       "array(['DENTAL', 'OUTPATIENT', 'OUT-PATIENT', 'AAR-Outpatient',\n",
       "       'outpatient', 'OPTICAL', 'OUT-PATIENT ', 'Dental', 'Outpatient',\n",
       "       'Annual check up', 'OUTPATIENT ', 'ANNUAL_CHECKUP', 'Out-Patient',\n",
       "       'VACCINES - PRIVATE VACCINES', 'Well Baby Clinic', 'AAR - OP',\n",
       "       'ANNUAL MEDICAL CHECK-UP', 'Out Patient',\n",
       "       'BABY FRIENDLY VACCINES / WELL BABY CLINIC', 'OUTPATIENT   ',\n",
       "       'ANNUAL MEDICAL CHECK-UP FOR MAIN MEMBER / EMPLOYEE',\n",
       "       'ANNUAL_CHECK-UP', 'dental', 'MATERNITY', 'ANNUAL CHECKUP',\n",
       "       'ANNUAL MEDICAL CHECK-UP at AAR healthcare clinics',\n",
       "       'BABY FRIENDLY VACCINES', 'Baby Friendly', 'AAR - Dental',\n",
       "       'SPECTACLE FRAME', 'Optical', 'AAR - Optical',\n",
       "       'AAR - Spectacle Frame', 'optical', 'AAR- Checkup'], dtype=object)"
      ]
     },
     "execution_count": 18,
     "metadata": {},
     "output_type": "execute_result"
    }
   ],
   "source": [
    "data.program_cover.unique()"
   ]
  },
  {
   "cell_type": "code",
   "execution_count": 19,
   "id": "aging-repository",
   "metadata": {},
   "outputs": [
    {
     "data": {
      "text/plain": [
       "array(['DENTAL', 'OUTPATIENT', 'OPTICAL', 'ANNUAL CHECKUP',\n",
       "       'BABY FRIENDLY'], dtype=object)"
      ]
     },
     "execution_count": 19,
     "metadata": {},
     "output_type": "execute_result"
    }
   ],
   "source": [
    "data.program_cover.replace(['OUT-PATIENT', 'AAR-Outpatient', 'outpatient', 'OUT-PATIENT ', 'Outpatient', 'OUTPATIENT ',\n",
    "                           'Out-Patient', 'AAR - OP', 'Out Patient', 'OUTPATIENT   '], 'OUTPATIENT', inplace=True)\n",
    "data.program_cover.replace(['Dental', 'dental', 'AAR - Dental'], 'DENTAL', inplace=True)\n",
    "data.program_cover.replace(['Optical', 'AAR - Optical', 'optical', 'SPECTACLE FRAME', 'AAR - Spectacle Frame'], 'OPTICAL', inplace=True)\n",
    "data.program_cover.replace(['Annual check up', 'ANNUAL_CHECKUP', 'ANNUAL MEDICAL CHECK-UP',\n",
    "                            'ANNUAL MEDICAL CHECK-UP FOR MAIN MEMBER / EMPLOYEE', 'ANNUAL_CHECK-UP',\n",
    "                            'ANNUAL MEDICAL CHECK-UP at AAR healthcare clinics', 'AAR- Checkup'], 'ANNUAL CHECKUP', inplace=True)\n",
    "data.program_cover.replace(['VACCINES - PRIVATE VACCINES', 'Well Baby Clinic', 'BABY FRIENDLY VACCINES / WELL BABY CLINIC',\n",
    "                           'MATERNITY', 'BABY FRIENDLY VACCINES', 'Baby Friendly'], 'BABY FRIENDLY', inplace=True)\n",
    "\n",
    "data.program_cover.unique()"
   ]
  },
  {
   "cell_type": "code",
   "execution_count": 20,
   "id": "eleven-chase",
   "metadata": {},
   "outputs": [
    {
     "data": {
      "text/plain": [
       "<AxesSubplot:xlabel='count', ylabel='program_cover'>"
      ]
     },
     "execution_count": 20,
     "metadata": {},
     "output_type": "execute_result"
    },
    {
     "data": {
      "image/png": "[encoded data removed]",
      "text/plain": [
       "<Figure size 720x576 with 1 Axes>"
      ]
     },
     "metadata": {},
     "output_type": "display_data"
    }
   ],
   "source": [
    "plt.figure(figsize=(10,8))\n",
    "sns.countplot(y=data.program_cover)"
   ]
  },
  {
   "cell_type": "code",
   "execution_count": 21,
   "id": "alert-thanksgiving",
   "metadata": {},
   "outputs": [
    {
     "name": "stdout",
     "output_type": "stream",
     "text": [
      "Oldest participant is 93 years old\n",
      "Date of birth: 1928-10-05 00:00:00\n"
     ]
    }
   ],
   "source": [
    "# oldest participant/customer\n",
    "print(f\"Oldest participant is {2021 - data.participant_date_of_birth.min().year} years old\\n\\\n",
    "Date of birth: {data.participant_date_of_birth.min()}\")"
   ]
  },
  {
   "cell_type": "code",
   "execution_count": 22,
   "id": "hungry-minnesota",
   "metadata": {},
   "outputs": [
    {
     "name": "stdout",
     "output_type": "stream",
     "text": [
      "Youngest participant is 0 years old\n",
      "Date of birth: 2021-07-01 00:00:00\n"
     ]
    }
   ],
   "source": [
    "# youngest\n",
    "print(f\"Youngest participant is {2021 - data.participant_date_of_birth.max().year} years old\\n\\\n",
    "Date of birth: {data.participant_date_of_birth.max()}\")"
   ]
  },
  {
   "cell_type": "markdown",
   "id": "communist-biotechnology",
   "metadata": {},
   "source": [
    "New features from DOB:\n"
   ]
  },
  {
   "cell_type": "code",
   "execution_count": 23,
   "id": "hollywood-hammer",
   "metadata": {},
   "outputs": [
    {
     "data": {
      "text/html": [
       "<div>\n",
       "<style scoped>\n",
       "    .dataframe tbody tr th:only-of-type {\n",
       "        vertical-align: middle;\n",
       "    }\n",
       "\n",
       "    .dataframe tbody tr th {\n",
       "        vertical-align: top;\n",
       "    }\n",
       "\n",
       "    .dataframe thead th {\n",
       "        text-align: right;\n",
       "    }\n",
       "</style>\n",
       "<table border=\"1\" class=\"dataframe\">\n",
       "  <thead>\n",
       "    <tr style=\"text-align: right;\">\n",
       "      <th></th>\n",
       "      <th>Serial Number</th>\n",
       "      <th>claim_status</th>\n",
       "      <th>provider_type</th>\n",
       "      <th>provider_region</th>\n",
       "      <th>program_cover</th>\n",
       "      <th>participant_date_of_birth</th>\n",
       "      <th>participant_gender</th>\n",
       "      <th>treatment_created_date</th>\n",
       "      <th>claim_finalized_date</th>\n",
       "      <th>item_status</th>\n",
       "      <th>item_name</th>\n",
       "      <th>item_amount</th>\n",
       "      <th>item_currency</th>\n",
       "      <th>item_quantity</th>\n",
       "      <th>total_item_amount</th>\n",
       "      <th>diagnoses</th>\n",
       "      <th>treatment_type</th>\n",
       "    </tr>\n",
       "  </thead>\n",
       "  <tbody>\n",
       "    <tr>\n",
       "      <th>140261</th>\n",
       "      <td>193310.0</td>\n",
       "      <td>Not Approved</td>\n",
       "      <td>Clinic</td>\n",
       "      <td>NAIROBI</td>\n",
       "      <td>OUTPATIENT</td>\n",
       "      <td>1953-07-21</td>\n",
       "      <td>MALE</td>\n",
       "      <td>2021-03-07 13:49:17</td>\n",
       "      <td>NaT</td>\n",
       "      <td>SUBMITTED</td>\n",
       "      <td>PLEURAL FLUID ZN STAIN</td>\n",
       "      <td>849.0</td>\n",
       "      <td>KES</td>\n",
       "      <td>1</td>\n",
       "      <td>849.0</td>\n",
       "      <td>Cystic meniscus unspecified meniscus right knee</td>\n",
       "      <td>OUTPATIENT</td>\n",
       "    </tr>\n",
       "    <tr>\n",
       "      <th>70625</th>\n",
       "      <td>184597.0</td>\n",
       "      <td>Approved</td>\n",
       "      <td>Clinic</td>\n",
       "      <td>NAIROBI</td>\n",
       "      <td>DENTAL</td>\n",
       "      <td>2012-01-26</td>\n",
       "      <td>MALE</td>\n",
       "      <td>2021-02-23 05:41:24</td>\n",
       "      <td>2021-02-25 19:50:00</td>\n",
       "      <td>APPROVED</td>\n",
       "      <td>Dental Consultation</td>\n",
       "      <td>3000.0</td>\n",
       "      <td>KES</td>\n",
       "      <td>2</td>\n",
       "      <td>6000.0</td>\n",
       "      <td>Dental caries unspecified</td>\n",
       "      <td>OUTPATIENT</td>\n",
       "    </tr>\n",
       "    <tr>\n",
       "      <th>138344</th>\n",
       "      <td>168559.0</td>\n",
       "      <td>Approved</td>\n",
       "      <td>Clinic</td>\n",
       "      <td>MOMBASA</td>\n",
       "      <td>OUTPATIENT</td>\n",
       "      <td>2010-05-31</td>\n",
       "      <td>FEMALE</td>\n",
       "      <td>2021-01-27 07:37:42</td>\n",
       "      <td>2021-01-28 12:59:05</td>\n",
       "      <td>APPROVED</td>\n",
       "      <td>Zefcolin syrup 100mls</td>\n",
       "      <td>362.0</td>\n",
       "      <td>KES</td>\n",
       "      <td>1</td>\n",
       "      <td>362.0</td>\n",
       "      <td>Acute upper respiratory infection unspecified</td>\n",
       "      <td>OUTPATIENT</td>\n",
       "    </tr>\n",
       "  </tbody>\n",
       "</table>\n",
       "</div>"
      ],
      "text/plain": [
       "        Serial Number  claim_status provider_type provider_region  \\\n",
       "140261       193310.0  Not Approved        Clinic         NAIROBI   \n",
       "70625        184597.0      Approved        Clinic         NAIROBI   \n",
       "138344       168559.0      Approved        Clinic         MOMBASA   \n",
       "\n",
       "       program_cover participant_date_of_birth participant_gender  \\\n",
       "140261    OUTPATIENT                1953-07-21               MALE   \n",
       "70625         DENTAL                2012-01-26               MALE   \n",
       "138344    OUTPATIENT                2010-05-31             FEMALE   \n",
       "\n",
       "       treatment_created_date claim_finalized_date item_status  \\\n",
       "140261    2021-03-07 13:49:17                  NaT   SUBMITTED   \n",
       "70625     2021-02-23 05:41:24  2021-02-25 19:50:00    APPROVED   \n",
       "138344    2021-01-27 07:37:42  2021-01-28 12:59:05    APPROVED   \n",
       "\n",
       "                     item_name  item_amount item_currency  item_quantity  \\\n",
       "140261  PLEURAL FLUID ZN STAIN        849.0           KES              1   \n",
       "70625      Dental Consultation       3000.0           KES              2   \n",
       "138344   Zefcolin syrup 100mls        362.0           KES              1   \n",
       "\n",
       "        total_item_amount                                        diagnoses  \\\n",
       "140261              849.0  Cystic meniscus unspecified meniscus right knee   \n",
       "70625              6000.0                        Dental caries unspecified   \n",
       "138344              362.0    Acute upper respiratory infection unspecified   \n",
       "\n",
       "       treatment_type  \n",
       "140261     OUTPATIENT  \n",
       "70625      OUTPATIENT  \n",
       "138344     OUTPATIENT  "
      ]
     },
     "execution_count": 23,
     "metadata": {},
     "output_type": "execute_result"
    }
   ],
   "source": [
    "data.sample(3)"
   ]
  },
  {
   "cell_type": "code",
   "execution_count": 70,
   "id": "shared-thanks",
   "metadata": {},
   "outputs": [],
   "source": [
    "# save below two cells for feature engineering"
   ]
  },
  {
   "cell_type": "code",
   "execution_count": null,
   "id": "agreed-friendship",
   "metadata": {},
   "outputs": [],
   "source": [
    "\"\"\"data['participant_yearOB'] = data.participant_date_of_birth.dt.year.astype(int)\n",
    "data['participant_monthOB'] = data.participant_date_of_birth.dt.month.astype(int)\n",
    "data['participant_dayOB'] = data.participant_date_of_birth.dt.day.astype(int)\n",
    "\n",
    "data.sample(3)\"\"\""
   ]
  },
  {
   "cell_type": "code",
   "execution_count": null,
   "id": "super-blood",
   "metadata": {},
   "outputs": [],
   "source": [
    "#data.participant_date_of_birth.dt.day_name().map({'Monday': 'weekday', 'Tuesday': 'weekday', 'Wednesday': 'weekday',\n",
    " #                                                 'Thursday': 'weekday', 'Friday': 'weekday', 'Saturday': 'weekend', 'Sunday': 'weekend'})"
   ]
  },
  {
   "cell_type": "code",
   "execution_count": 24,
   "id": "sporting-virginia",
   "metadata": {},
   "outputs": [
    {
     "name": "stdout",
     "output_type": "stream",
     "text": [
      "FEMALE    95751\n",
      "MALE      75238\n",
      "Name: participant_gender, dtype: int64\n"
     ]
    },
    {
     "data": {
      "text/plain": [
       "<AxesSubplot:xlabel='participant_gender', ylabel='count'>"
      ]
     },
     "execution_count": 24,
     "metadata": {},
     "output_type": "execute_result"
    },
    {
     "data": {
      "image/png": "[encoded data removed]",
      "text/plain": [
       "<Figure size 576x432 with 1 Axes>"
      ]
     },
     "metadata": {},
     "output_type": "display_data"
    }
   ],
   "source": [
    "# gender\n",
    "print(data.participant_gender.value_counts())\n",
    "plt.figure(figsize=(8,6))\n",
    "sns.countplot(x=data.participant_gender)"
   ]
  },
  {
   "cell_type": "code",
   "execution_count": 25,
   "id": "voluntary-executive",
   "metadata": {},
   "outputs": [
    {
     "data": {
      "text/plain": [
       "Timestamp('2020-12-31 01:02:12')"
      ]
     },
     "execution_count": 25,
     "metadata": {},
     "output_type": "execute_result"
    }
   ],
   "source": [
    "# treatment date\n",
    "# earliest\n",
    "data.treatment_created_date.min()"
   ]
  },
  {
   "cell_type": "code",
   "execution_count": 26,
   "id": "defined-frank",
   "metadata": {},
   "outputs": [
    {
     "data": {
      "text/plain": [
       "Timestamp('2021-04-01 04:47:40')"
      ]
     },
     "execution_count": 26,
     "metadata": {},
     "output_type": "execute_result"
    }
   ],
   "source": [
    "# latest\n",
    "data.treatment_created_date.max()"
   ]
  },
  {
   "cell_type": "code",
   "execution_count": 28,
   "id": "seeing-brain",
   "metadata": {},
   "outputs": [
    {
     "data": {
      "text/plain": [
       "Timestamp('2020-12-31 06:24:42')"
      ]
     },
     "execution_count": 28,
     "metadata": {},
     "output_type": "execute_result"
    }
   ],
   "source": [
    "# claim finalized date\n",
    "data.claim_finalized_date.min()"
   ]
  },
  {
   "cell_type": "code",
   "execution_count": 29,
   "id": "august-suspect",
   "metadata": {},
   "outputs": [
    {
     "data": {
      "text/plain": [
       "Timestamp('2021-03-31 20:53:27')"
      ]
     },
     "execution_count": 29,
     "metadata": {},
     "output_type": "execute_result"
    }
   ],
   "source": [
    "data.claim_finalized_date.max()"
   ]
  },
  {
   "cell_type": "code",
   "execution_count": 33,
   "id": "creative-rover",
   "metadata": {},
   "outputs": [
    {
     "name": "stdout",
     "output_type": "stream",
     "text": [
      "APPROVED     152792\n",
      "SUBMITTED     16726\n",
      "REJECTED       1477\n",
      "Name: item_status, dtype: int64\n"
     ]
    },
    {
     "data": {
      "text/plain": [
       "<AxesSubplot:xlabel='item_status', ylabel='count'>"
      ]
     },
     "execution_count": 33,
     "metadata": {},
     "output_type": "execute_result"
    },
    {
     "data": {
      "image/png": "[encoded data removed]",
      "text/plain": [
       "<Figure size 576x432 with 1 Axes>"
      ]
     },
     "metadata": {},
     "output_type": "display_data"
    }
   ],
   "source": [
    "# item status\n",
    "print(data.item_status.value_counts())\n",
    "plt.figure(figsize=(8,6))\n",
    "sns.countplot(x=data.item_status)"
   ]
  },
  {
   "cell_type": "markdown",
   "id": "corporate-object",
   "metadata": {},
   "source": [
    "Are approved items have meaning that the claim is approved?  \n",
    "Let's inspect:"
   ]
  },
  {
   "cell_type": "code",
   "execution_count": 32,
   "id": "based-president",
   "metadata": {},
   "outputs": [
    {
     "data": {
      "text/plain": [
       "Approved        153549\n",
       "Not Approved     17446\n",
       "Name: claim_status, dtype: int64"
      ]
     },
     "execution_count": 32,
     "metadata": {},
     "output_type": "execute_result"
    }
   ],
   "source": [
    "data.claim_status.value_counts()"
   ]
  },
  {
   "cell_type": "markdown",
   "id": "broke-march",
   "metadata": {},
   "source": [
    "Seems that is so. Meaning that the items under 'SUBMITTED' are awaiting approval or rejection.  \n",
    "This is a great feature, that is if it's not a leakage feature, such that the item status is determined at the health providers prior to being pushed to the insurance company.  \n",
    "To verify it's not a leakage feature let's see if there are cases where item status is rejected and claim status is approved:"
   ]
  },
  {
   "cell_type": "code",
   "execution_count": 37,
   "id": "laughing-swimming",
   "metadata": {},
   "outputs": [
    {
     "data": {
      "text/plain": [
       "458"
      ]
     },
     "execution_count": 37,
     "metadata": {},
     "output_type": "execute_result"
    }
   ],
   "source": [
    "len(data[(data.item_status == \"REJECTED\") & (data.claim_status == 'Approved')])"
   ]
  },
  {
   "cell_type": "markdown",
   "id": "maritime-marks",
   "metadata": {},
   "source": [
    "There are a number of such cases!  \n",
    "So there is no leakage. It's either item status or claim status is determined first."
   ]
  },
  {
   "cell_type": "code",
   "execution_count": 40,
   "id": "tested-rough",
   "metadata": {},
   "outputs": [
    {
     "data": {
      "text/plain": [
       "TOTAL CORPORATE SHARE              12977\n",
       "Consultation General Practioner    10941\n",
       "Consultation  - Specialist          2470\n",
       "Full Haemogram (FHG)                2458\n",
       "CONSULTATION FEE                    1716\n",
       "FULL BLOOD COUNT (HAEMOGRAM)        1682\n",
       "FULL HAEMOGRAM                      1509\n",
       "Consultation General Outpatient     1357\n",
       "Lenses                              1238\n",
       "Consultation                        1129\n",
       "Frames                              1093\n",
       "Revist Consultation                 1067\n",
       "C - Reactive Protein (Crp)          1064\n",
       "MALARIAL PARASITES (THIN FILM)      1052\n",
       "OUT PATIENT CLINIC CONSULTATION      810\n",
       "Consultation Paediatric Clinic       799\n",
       "Dental Consultation                  719\n",
       "Consultation - Clinical officer      713\n",
       " Urinalysis                          654\n",
       "CBC/PBF + MPS                        651\n",
       "Name: item_name, dtype: int64"
      ]
     },
     "execution_count": 40,
     "metadata": {},
     "output_type": "execute_result"
    }
   ],
   "source": [
    "# item name\n",
    "data.item_name.value_counts()[:20]"
   ]
  },
  {
   "cell_type": "markdown",
   "id": "herbal-devil",
   "metadata": {},
   "source": [
    "Item name seems to state the reason for healthcare consultation. There also seem to be a lot of redundancy but given that the number of unique values in this column is almost 10000, it would be tedious to remove the redundancy. We can use text vectorization techniques may be, or text frequencies, after converting all text to lowercase."
   ]
  },
  {
   "cell_type": "code",
   "execution_count": 42,
   "id": "supposed-desktop",
   "metadata": {},
   "outputs": [
    {
     "name": "stderr",
     "output_type": "stream",
     "text": [
      "/home/lyrax/.local/lib/python3.9/site-packages/seaborn/distributions.py:2619: FutureWarning: `distplot` is a deprecated function and will be removed in a future version. Please adapt your code to use either `displot` (a figure-level function with similar flexibility) or `histplot` (an axes-level function for histograms).\n",
      "  warnings.warn(msg, FutureWarning)\n"
     ]
    },
    {
     "data": {
      "text/plain": [
       "<AxesSubplot:xlabel='item_amount', ylabel='Density'>"
      ]
     },
     "execution_count": 42,
     "metadata": {},
     "output_type": "execute_result"
    },
    {
     "data": {
      "image/png": "[encoded data removed]",
      "text/plain": [
       "<Figure size 432x288 with 1 Axes>"
      ]
     },
     "metadata": {},
     "output_type": "display_data"
    }
   ],
   "source": [
    "# item amount\n",
    "sns.distplot(data.item_amount)"
   ]
  },
  {
   "cell_type": "code",
   "execution_count": 43,
   "id": "suburban-morocco",
   "metadata": {},
   "outputs": [
    {
     "name": "stdout",
     "output_type": "stream",
     "text": [
      "max: 120000.0\n",
      "min: 0.0\n"
     ]
    }
   ],
   "source": [
    "# max and min amount\n",
    "print(f\"max: {data.item_amount.max()}\\nmin: {data.item_amount.min()}\")"
   ]
  },
  {
   "cell_type": "code",
   "execution_count": 45,
   "id": "wrong-coordinator",
   "metadata": {},
   "outputs": [
    {
     "data": {
      "text/plain": [
       "517"
      ]
     },
     "execution_count": 45,
     "metadata": {},
     "output_type": "execute_result"
    }
   ],
   "source": [
    "# number of amounts greater than 20k\n",
    "len(data[data.item_amount > 20000])"
   ]
  },
  {
   "cell_type": "code",
   "execution_count": 48,
   "id": "outdoor-rebecca",
   "metadata": {},
   "outputs": [],
   "source": [
    "# drop item currency column since it has only one unique value\n",
    "data.drop('item_currency', axis=1, inplace=True)"
   ]
  },
  {
   "cell_type": "code",
   "execution_count": 51,
   "id": "continent-forty",
   "metadata": {},
   "outputs": [
    {
     "data": {
      "text/plain": [
       "1     128908\n",
       "10      9962\n",
       "30      5840\n",
       "2       4372\n",
       "14      3489\n",
       "20      2795\n",
       "5       2211\n",
       "15      2109\n",
       "3       1939\n",
       "7       1467\n",
       "60      1166\n",
       "6       1060\n",
       "28       661\n",
       "18       628\n",
       "9        612\n",
       "4        538\n",
       "16       406\n",
       "21       362\n",
       "12       325\n",
       "8        272\n",
       "Name: item_quantity, dtype: int64"
      ]
     },
     "execution_count": 51,
     "metadata": {},
     "output_type": "execute_result"
    }
   ],
   "source": [
    "# item quantity\n",
    "data.item_quantity.value_counts()[:20]"
   ]
  },
  {
   "cell_type": "code",
   "execution_count": 55,
   "id": "offshore-castle",
   "metadata": {},
   "outputs": [
    {
     "data": {
      "text/plain": [
       "Encounter for administrative examination                                                          21769\n",
       "Encounter for examination and observation for other reasons                                        7993\n",
       "Acute upper respiratory infection unspecified                                                      6268\n",
       "Acute nasopharyngitis [common cold]                                                                3594\n",
       "Acute pharyngitis                                                                                  3393\n",
       "                                                                                                  ...  \n",
       "Nutritional deficiency unspecified                                                                    1\n",
       "Anxiety disorder unspecified; Panic disorder [episodic paroxysmal anxiety] without agoraphobia        1\n",
       "Aspergillosis                                                                                         1\n",
       "Disorders of vestibular function                                                                      1\n",
       "Superficial injury of head; Acute tonsillitis                                                         1\n",
       "Name: diagnoses, Length: 7112, dtype: int64"
      ]
     },
     "execution_count": 55,
     "metadata": {},
     "output_type": "execute_result"
    }
   ],
   "source": [
    "data.diagnoses.value_counts()"
   ]
  },
  {
   "cell_type": "markdown",
   "id": "asian-debut",
   "metadata": {},
   "source": [
    "Diagnosis is another statistic that we might require to use text vectorization to be able to include this information in modeling."
   ]
  },
  {
   "cell_type": "code",
   "execution_count": 58,
   "id": "fiscal-thriller",
   "metadata": {},
   "outputs": [],
   "source": [
    "# drop treatment type as it has only one unique value\n",
    "data.drop('treatment_type', axis=1, inplace=True)"
   ]
  },
  {
   "cell_type": "markdown",
   "id": "informative-finding",
   "metadata": {},
   "source": [
    "## **EDA Summary**\n"
   ]
  },
  {
   "cell_type": "code",
   "execution_count": null,
   "id": "reverse-height",
   "metadata": {},
   "outputs": [],
   "source": []
  },
  {
   "cell_type": "code",
   "execution_count": 63,
   "id": "coordinated-california",
   "metadata": {},
   "outputs": [
    {
     "data": {
      "text/html": [
       "<div>\n",
       "<style scoped>\n",
       "    .dataframe tbody tr th:only-of-type {\n",
       "        vertical-align: middle;\n",
       "    }\n",
       "\n",
       "    .dataframe tbody tr th {\n",
       "        vertical-align: top;\n",
       "    }\n",
       "\n",
       "    .dataframe thead th {\n",
       "        text-align: right;\n",
       "    }\n",
       "</style>\n",
       "<table border=\"1\" class=\"dataframe\">\n",
       "  <thead>\n",
       "    <tr style=\"text-align: right;\">\n",
       "      <th></th>\n",
       "      <th>Serial Number</th>\n",
       "      <th>claim_status</th>\n",
       "      <th>provider_type</th>\n",
       "      <th>provider_region</th>\n",
       "      <th>program_cover</th>\n",
       "      <th>participant_date_of_birth</th>\n",
       "      <th>participant_gender</th>\n",
       "      <th>treatment_created_date</th>\n",
       "      <th>claim_finalized_date</th>\n",
       "      <th>item_status</th>\n",
       "      <th>item_name</th>\n",
       "      <th>item_amount</th>\n",
       "      <th>item_quantity</th>\n",
       "      <th>total_item_amount</th>\n",
       "      <th>diagnoses</th>\n",
       "    </tr>\n",
       "  </thead>\n",
       "  <tbody>\n",
       "    <tr>\n",
       "      <th>0</th>\n",
       "      <td>162967.0</td>\n",
       "      <td>Approved</td>\n",
       "      <td>Specialist</td>\n",
       "      <td>NAIROBI</td>\n",
       "      <td>DENTAL</td>\n",
       "      <td>1987-12-19</td>\n",
       "      <td>FEMALE</td>\n",
       "      <td>2021-01-19 10:45:21</td>\n",
       "      <td>2021-01-19 22:38:08</td>\n",
       "      <td>APPROVED</td>\n",
       "      <td>Simple Extraction Permanent</td>\n",
       "      <td>3000.0</td>\n",
       "      <td>1</td>\n",
       "      <td>3000.0</td>\n",
       "      <td>Dental caries</td>\n",
       "    </tr>\n",
       "    <tr>\n",
       "      <th>1</th>\n",
       "      <td>162967.0</td>\n",
       "      <td>Approved</td>\n",
       "      <td>Specialist</td>\n",
       "      <td>NAIROBI</td>\n",
       "      <td>DENTAL</td>\n",
       "      <td>1987-12-19</td>\n",
       "      <td>FEMALE</td>\n",
       "      <td>2021-01-19 10:45:21</td>\n",
       "      <td>2021-01-19 22:38:08</td>\n",
       "      <td>APPROVED</td>\n",
       "      <td>Dental Consultation</td>\n",
       "      <td>1500.0</td>\n",
       "      <td>1</td>\n",
       "      <td>1500.0</td>\n",
       "      <td>Dental caries</td>\n",
       "    </tr>\n",
       "    <tr>\n",
       "      <th>2</th>\n",
       "      <td>164883.0</td>\n",
       "      <td>Approved</td>\n",
       "      <td>Specialist</td>\n",
       "      <td>NAIROBI</td>\n",
       "      <td>DENTAL</td>\n",
       "      <td>1977-01-01</td>\n",
       "      <td>FEMALE</td>\n",
       "      <td>2021-01-22 10:49:08</td>\n",
       "      <td>2021-01-28 10:48:12</td>\n",
       "      <td>APPROVED</td>\n",
       "      <td>Dental consultation</td>\n",
       "      <td>1500.0</td>\n",
       "      <td>1</td>\n",
       "      <td>1500.0</td>\n",
       "      <td>Dental caries</td>\n",
       "    </tr>\n",
       "    <tr>\n",
       "      <th>3</th>\n",
       "      <td>164883.0</td>\n",
       "      <td>Approved</td>\n",
       "      <td>Specialist</td>\n",
       "      <td>NAIROBI</td>\n",
       "      <td>DENTAL</td>\n",
       "      <td>1977-01-01</td>\n",
       "      <td>FEMALE</td>\n",
       "      <td>2021-01-22 10:49:08</td>\n",
       "      <td>2021-01-28 10:48:12</td>\n",
       "      <td>APPROVED</td>\n",
       "      <td>Iopa7</td>\n",
       "      <td>1000.0</td>\n",
       "      <td>1</td>\n",
       "      <td>1000.0</td>\n",
       "      <td>Dental caries</td>\n",
       "    </tr>\n",
       "    <tr>\n",
       "      <th>4</th>\n",
       "      <td>164883.0</td>\n",
       "      <td>Approved</td>\n",
       "      <td>Specialist</td>\n",
       "      <td>NAIROBI</td>\n",
       "      <td>DENTAL</td>\n",
       "      <td>1977-01-01</td>\n",
       "      <td>FEMALE</td>\n",
       "      <td>2021-01-22 10:49:08</td>\n",
       "      <td>2021-01-28 10:48:12</td>\n",
       "      <td>APPROVED</td>\n",
       "      <td>Composite Filling</td>\n",
       "      <td>5000.0</td>\n",
       "      <td>3</td>\n",
       "      <td>15000.0</td>\n",
       "      <td>Dental caries</td>\n",
       "    </tr>\n",
       "    <tr>\n",
       "      <th>...</th>\n",
       "      <td>...</td>\n",
       "      <td>...</td>\n",
       "      <td>...</td>\n",
       "      <td>...</td>\n",
       "      <td>...</td>\n",
       "      <td>...</td>\n",
       "      <td>...</td>\n",
       "      <td>...</td>\n",
       "      <td>...</td>\n",
       "      <td>...</td>\n",
       "      <td>...</td>\n",
       "      <td>...</td>\n",
       "      <td>...</td>\n",
       "      <td>...</td>\n",
       "      <td>...</td>\n",
       "    </tr>\n",
       "    <tr>\n",
       "      <th>170990</th>\n",
       "      <td>204549.0</td>\n",
       "      <td>Not Approved</td>\n",
       "      <td>Clinic</td>\n",
       "      <td>NYERI</td>\n",
       "      <td>OUTPATIENT</td>\n",
       "      <td>1992-05-05</td>\n",
       "      <td>FEMALE</td>\n",
       "      <td>2021-03-25 14:17:33</td>\n",
       "      <td>NaT</td>\n",
       "      <td>SUBMITTED</td>\n",
       "      <td>H.Pylori Antigen Detection In Stool</td>\n",
       "      <td>1400.0</td>\n",
       "      <td>1</td>\n",
       "      <td>1400.0</td>\n",
       "      <td>Gastroenteritis and colitis due to radiation</td>\n",
       "    </tr>\n",
       "    <tr>\n",
       "      <th>170991</th>\n",
       "      <td>204549.0</td>\n",
       "      <td>Not Approved</td>\n",
       "      <td>Clinic</td>\n",
       "      <td>NYERI</td>\n",
       "      <td>OUTPATIENT</td>\n",
       "      <td>1992-05-05</td>\n",
       "      <td>FEMALE</td>\n",
       "      <td>2021-03-25 14:17:33</td>\n",
       "      <td>NaT</td>\n",
       "      <td>SUBMITTED</td>\n",
       "      <td>Esomeprazole 40mg/Itopride 150mg capsules 30s</td>\n",
       "      <td>25.0</td>\n",
       "      <td>10</td>\n",
       "      <td>250.0</td>\n",
       "      <td>Gastroenteritis and colitis due to radiation</td>\n",
       "    </tr>\n",
       "    <tr>\n",
       "      <th>170992</th>\n",
       "      <td>204549.0</td>\n",
       "      <td>Not Approved</td>\n",
       "      <td>Clinic</td>\n",
       "      <td>NYERI</td>\n",
       "      <td>OUTPATIENT</td>\n",
       "      <td>1992-05-05</td>\n",
       "      <td>FEMALE</td>\n",
       "      <td>2021-03-25 14:17:33</td>\n",
       "      <td>NaT</td>\n",
       "      <td>SUBMITTED</td>\n",
       "      <td>Ofloxacin/Ornidazole 200mg/500mg tablets</td>\n",
       "      <td>58.0</td>\n",
       "      <td>10</td>\n",
       "      <td>580.0</td>\n",
       "      <td>Gastroenteritis and colitis due to radiation</td>\n",
       "    </tr>\n",
       "    <tr>\n",
       "      <th>170993</th>\n",
       "      <td>204549.0</td>\n",
       "      <td>Not Approved</td>\n",
       "      <td>Clinic</td>\n",
       "      <td>NYERI</td>\n",
       "      <td>OUTPATIENT</td>\n",
       "      <td>1992-05-05</td>\n",
       "      <td>FEMALE</td>\n",
       "      <td>2021-03-25 14:17:33</td>\n",
       "      <td>NaT</td>\n",
       "      <td>SUBMITTED</td>\n",
       "      <td>Revist Consultation</td>\n",
       "      <td>0.0</td>\n",
       "      <td>1</td>\n",
       "      <td>0.0</td>\n",
       "      <td>Gastroenteritis and colitis due to radiation</td>\n",
       "    </tr>\n",
       "    <tr>\n",
       "      <th>170994</th>\n",
       "      <td>204549.0</td>\n",
       "      <td>Not Approved</td>\n",
       "      <td>Clinic</td>\n",
       "      <td>NYERI</td>\n",
       "      <td>OUTPATIENT</td>\n",
       "      <td>1992-05-05</td>\n",
       "      <td>FEMALE</td>\n",
       "      <td>2021-03-25 14:17:33</td>\n",
       "      <td>NaT</td>\n",
       "      <td>SUBMITTED</td>\n",
       "      <td>Consultation General Practioner</td>\n",
       "      <td>1000.0</td>\n",
       "      <td>1</td>\n",
       "      <td>1000.0</td>\n",
       "      <td>Gastroenteritis and colitis due to radiation</td>\n",
       "    </tr>\n",
       "  </tbody>\n",
       "</table>\n",
       "<p>170995 rows × 15 columns</p>\n",
       "</div>"
      ],
      "text/plain": [
       "        Serial Number  claim_status provider_type provider_region  \\\n",
       "0            162967.0      Approved    Specialist         NAIROBI   \n",
       "1            162967.0      Approved    Specialist         NAIROBI   \n",
       "2            164883.0      Approved    Specialist         NAIROBI   \n",
       "3            164883.0      Approved    Specialist         NAIROBI   \n",
       "4            164883.0      Approved    Specialist         NAIROBI   \n",
       "...               ...           ...           ...             ...   \n",
       "170990       204549.0  Not Approved        Clinic           NYERI   \n",
       "170991       204549.0  Not Approved        Clinic           NYERI   \n",
       "170992       204549.0  Not Approved        Clinic           NYERI   \n",
       "170993       204549.0  Not Approved        Clinic           NYERI   \n",
       "170994       204549.0  Not Approved        Clinic           NYERI   \n",
       "\n",
       "       program_cover participant_date_of_birth participant_gender  \\\n",
       "0             DENTAL                1987-12-19             FEMALE   \n",
       "1             DENTAL                1987-12-19             FEMALE   \n",
       "2             DENTAL                1977-01-01             FEMALE   \n",
       "3             DENTAL                1977-01-01             FEMALE   \n",
       "4             DENTAL                1977-01-01             FEMALE   \n",
       "...              ...                       ...                ...   \n",
       "170990    OUTPATIENT                1992-05-05             FEMALE   \n",
       "170991    OUTPATIENT                1992-05-05             FEMALE   \n",
       "170992    OUTPATIENT                1992-05-05             FEMALE   \n",
       "170993    OUTPATIENT                1992-05-05             FEMALE   \n",
       "170994    OUTPATIENT                1992-05-05             FEMALE   \n",
       "\n",
       "       treatment_created_date claim_finalized_date item_status  \\\n",
       "0         2021-01-19 10:45:21  2021-01-19 22:38:08    APPROVED   \n",
       "1         2021-01-19 10:45:21  2021-01-19 22:38:08    APPROVED   \n",
       "2         2021-01-22 10:49:08  2021-01-28 10:48:12    APPROVED   \n",
       "3         2021-01-22 10:49:08  2021-01-28 10:48:12    APPROVED   \n",
       "4         2021-01-22 10:49:08  2021-01-28 10:48:12    APPROVED   \n",
       "...                       ...                  ...         ...   \n",
       "170990    2021-03-25 14:17:33                  NaT   SUBMITTED   \n",
       "170991    2021-03-25 14:17:33                  NaT   SUBMITTED   \n",
       "170992    2021-03-25 14:17:33                  NaT   SUBMITTED   \n",
       "170993    2021-03-25 14:17:33                  NaT   SUBMITTED   \n",
       "170994    2021-03-25 14:17:33                  NaT   SUBMITTED   \n",
       "\n",
       "                                            item_name  item_amount  \\\n",
       "0                         Simple Extraction Permanent       3000.0   \n",
       "1                                 Dental Consultation       1500.0   \n",
       "2                                 Dental consultation       1500.0   \n",
       "3                                               Iopa7       1000.0   \n",
       "4                                   Composite Filling       5000.0   \n",
       "...                                               ...          ...   \n",
       "170990            H.Pylori Antigen Detection In Stool       1400.0   \n",
       "170991  Esomeprazole 40mg/Itopride 150mg capsules 30s         25.0   \n",
       "170992      Ofloxacin/Ornidazole 200mg/500mg tablets          58.0   \n",
       "170993                            Revist Consultation          0.0   \n",
       "170994                Consultation General Practioner       1000.0   \n",
       "\n",
       "        item_quantity  total_item_amount  \\\n",
       "0                   1             3000.0   \n",
       "1                   1             1500.0   \n",
       "2                   1             1500.0   \n",
       "3                   1             1000.0   \n",
       "4                   3            15000.0   \n",
       "...               ...                ...   \n",
       "170990              1             1400.0   \n",
       "170991             10              250.0   \n",
       "170992             10              580.0   \n",
       "170993              1                0.0   \n",
       "170994              1             1000.0   \n",
       "\n",
       "                                           diagnoses  \n",
       "0                                      Dental caries  \n",
       "1                                      Dental caries  \n",
       "2                                      Dental caries  \n",
       "3                                      Dental caries  \n",
       "4                                      Dental caries  \n",
       "...                                              ...  \n",
       "170990  Gastroenteritis and colitis due to radiation  \n",
       "170991  Gastroenteritis and colitis due to radiation  \n",
       "170992  Gastroenteritis and colitis due to radiation  \n",
       "170993  Gastroenteritis and colitis due to radiation  \n",
       "170994  Gastroenteritis and colitis due to radiation  \n",
       "\n",
       "[170995 rows x 15 columns]"
      ]
     },
     "execution_count": 63,
     "metadata": {},
     "output_type": "execute_result"
    }
   ],
   "source": [
    "data"
   ]
  },
  {
   "cell_type": "code",
   "execution_count": null,
   "id": "advisory-metadata",
   "metadata": {},
   "outputs": [],
   "source": []
  }
 ],
 "metadata": {
  "kernelspec": {
   "display_name": "Python 3",
   "language": "python",
   "name": "python3"
  },
  "language_info": {
   "codemirror_mode": {
    "name": "ipython",
    "version": 3
   },
   "file_extension": ".py",
   "mimetype": "text/x-python",
   "name": "python",
   "nbconvert_exporter": "python",
   "pygments_lexer": "ipython3",
   "version": "3.9.2"
  }
 },
 "nbformat": 4,
 "nbformat_minor": 5
}
