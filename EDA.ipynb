{
 "cells": [
  {
   "cell_type": "markdown",
   "id": "soviet-mobile",
   "metadata": {},
   "source": [
    "**<h1>Exploratory Data Analysis</h1>**\n",
    "We'll cover EDA alongside data cleaning and feature engineering, cleaning the data as we gain insights and data trends exhibited by the data, and adding more derived features to explore the data further. \n",
    "We may follow the following steps:  \n",
    "- **EDA and Data Cleaning**\n",
    "- **Missing data imputation**\n",
    "- **Feature engineering**"
   ]
  },
  {
   "cell_type": "code",
   "execution_count": 1,
   "id": "signal-institute",
   "metadata": {},
   "outputs": [],
   "source": [
    "# Import necessary libraries\n",
    "import numpy as np\n",
    "import pandas as pd\n",
    "\n",
    "import matplotlib.pyplot as plt\n",
    "%matplotlib inline\n",
    "plt.style.use(\"/home/lyrax/matplotlib-dracula/dracula.mplstyle\")\n",
    "import seaborn as sns\n",
    "\n",
    "from tqdm import tqdm, trange"
   ]
  },
  {
   "cell_type": "code",
   "execution_count": 2,
   "id": "metallic-drove",
   "metadata": {},
   "outputs": [
    {
     "data": {
      "text/html": [
       "<div>\n",
       "<style scoped>\n",
       "    .dataframe tbody tr th:only-of-type {\n",
       "        vertical-align: middle;\n",
       "    }\n",
       "\n",
       "    .dataframe tbody tr th {\n",
       "        vertical-align: top;\n",
       "    }\n",
       "\n",
       "    .dataframe thead th {\n",
       "        text-align: right;\n",
       "    }\n",
       "</style>\n",
       "<table border=\"1\" class=\"dataframe\">\n",
       "  <thead>\n",
       "    <tr style=\"text-align: right;\">\n",
       "      <th></th>\n",
       "      <th>Serial Number</th>\n",
       "      <th>claim_status</th>\n",
       "      <th>provider_type</th>\n",
       "      <th>provider_region</th>\n",
       "      <th>program_type</th>\n",
       "      <th>program_cover</th>\n",
       "      <th>participant_date_of_birth</th>\n",
       "      <th>participant_gender</th>\n",
       "      <th>treatment_created_date</th>\n",
       "      <th>claim_finalized_date</th>\n",
       "      <th>item_status</th>\n",
       "      <th>item_name</th>\n",
       "      <th>item_amount</th>\n",
       "      <th>item_currency</th>\n",
       "      <th>item_quantity</th>\n",
       "      <th>total_item_amount</th>\n",
       "      <th>diagnoses</th>\n",
       "      <th>treatment_type</th>\n",
       "    </tr>\n",
       "  </thead>\n",
       "  <tbody>\n",
       "    <tr>\n",
       "      <th>0</th>\n",
       "      <td>162967.0</td>\n",
       "      <td>Approved</td>\n",
       "      <td>Specialist</td>\n",
       "      <td>NAIROBI</td>\n",
       "      <td>Insurance</td>\n",
       "      <td>DENTAL</td>\n",
       "      <td>1987-12-19</td>\n",
       "      <td>FEMALE</td>\n",
       "      <td>2021-01-19 10:45:21</td>\n",
       "      <td>2021-01-19 22:38:08</td>\n",
       "      <td>APPROVED</td>\n",
       "      <td>Simple Extraction Permanent</td>\n",
       "      <td>3000.0</td>\n",
       "      <td>KES</td>\n",
       "      <td>1</td>\n",
       "      <td>3000.0</td>\n",
       "      <td>Dental caries</td>\n",
       "      <td>OUTPATIENT</td>\n",
       "    </tr>\n",
       "    <tr>\n",
       "      <th>1</th>\n",
       "      <td>162967.0</td>\n",
       "      <td>Approved</td>\n",
       "      <td>Specialist</td>\n",
       "      <td>NAIROBI</td>\n",
       "      <td>Insurance</td>\n",
       "      <td>DENTAL</td>\n",
       "      <td>1987-12-19</td>\n",
       "      <td>FEMALE</td>\n",
       "      <td>2021-01-19 10:45:21</td>\n",
       "      <td>2021-01-19 22:38:08</td>\n",
       "      <td>APPROVED</td>\n",
       "      <td>Dental Consultation</td>\n",
       "      <td>1500.0</td>\n",
       "      <td>KES</td>\n",
       "      <td>1</td>\n",
       "      <td>1500.0</td>\n",
       "      <td>Dental caries</td>\n",
       "      <td>OUTPATIENT</td>\n",
       "    </tr>\n",
       "    <tr>\n",
       "      <th>2</th>\n",
       "      <td>164883.0</td>\n",
       "      <td>Approved</td>\n",
       "      <td>Specialist</td>\n",
       "      <td>NAIROBI</td>\n",
       "      <td>Insurance</td>\n",
       "      <td>DENTAL</td>\n",
       "      <td>1977-01-01</td>\n",
       "      <td>FEMALE</td>\n",
       "      <td>2021-01-22 10:49:08</td>\n",
       "      <td>2021-01-28 10:48:12</td>\n",
       "      <td>APPROVED</td>\n",
       "      <td>Dental consultation</td>\n",
       "      <td>1500.0</td>\n",
       "      <td>KES</td>\n",
       "      <td>1</td>\n",
       "      <td>1500.0</td>\n",
       "      <td>Dental caries</td>\n",
       "      <td>OUTPATIENT</td>\n",
       "    </tr>\n",
       "    <tr>\n",
       "      <th>3</th>\n",
       "      <td>164883.0</td>\n",
       "      <td>Approved</td>\n",
       "      <td>Specialist</td>\n",
       "      <td>NAIROBI</td>\n",
       "      <td>Insurance</td>\n",
       "      <td>DENTAL</td>\n",
       "      <td>1977-01-01</td>\n",
       "      <td>FEMALE</td>\n",
       "      <td>2021-01-22 10:49:08</td>\n",
       "      <td>2021-01-28 10:48:12</td>\n",
       "      <td>APPROVED</td>\n",
       "      <td>Iopa7</td>\n",
       "      <td>1000.0</td>\n",
       "      <td>KES</td>\n",
       "      <td>1</td>\n",
       "      <td>1000.0</td>\n",
       "      <td>Dental caries</td>\n",
       "      <td>OUTPATIENT</td>\n",
       "    </tr>\n",
       "    <tr>\n",
       "      <th>4</th>\n",
       "      <td>164883.0</td>\n",
       "      <td>Approved</td>\n",
       "      <td>Specialist</td>\n",
       "      <td>NAIROBI</td>\n",
       "      <td>Insurance</td>\n",
       "      <td>DENTAL</td>\n",
       "      <td>1977-01-01</td>\n",
       "      <td>FEMALE</td>\n",
       "      <td>2021-01-22 10:49:08</td>\n",
       "      <td>2021-01-28 10:48:12</td>\n",
       "      <td>APPROVED</td>\n",
       "      <td>Composite Filling</td>\n",
       "      <td>5000.0</td>\n",
       "      <td>KES</td>\n",
       "      <td>3</td>\n",
       "      <td>15000.0</td>\n",
       "      <td>Dental caries</td>\n",
       "      <td>OUTPATIENT</td>\n",
       "    </tr>\n",
       "    <tr>\n",
       "      <th>...</th>\n",
       "      <td>...</td>\n",
       "      <td>...</td>\n",
       "      <td>...</td>\n",
       "      <td>...</td>\n",
       "      <td>...</td>\n",
       "      <td>...</td>\n",
       "      <td>...</td>\n",
       "      <td>...</td>\n",
       "      <td>...</td>\n",
       "      <td>...</td>\n",
       "      <td>...</td>\n",
       "      <td>...</td>\n",
       "      <td>...</td>\n",
       "      <td>...</td>\n",
       "      <td>...</td>\n",
       "      <td>...</td>\n",
       "      <td>...</td>\n",
       "      <td>...</td>\n",
       "    </tr>\n",
       "    <tr>\n",
       "      <th>170990</th>\n",
       "      <td>204549.0</td>\n",
       "      <td>Submitted</td>\n",
       "      <td>Clinic</td>\n",
       "      <td>NYERI</td>\n",
       "      <td>Insurance</td>\n",
       "      <td>OUT-PATIENT</td>\n",
       "      <td>1992-05-05</td>\n",
       "      <td>FEMALE</td>\n",
       "      <td>2021-03-25 14:17:33</td>\n",
       "      <td>NaT</td>\n",
       "      <td>SUBMITTED</td>\n",
       "      <td>H.Pylori Antigen Detection In Stool</td>\n",
       "      <td>1400.0</td>\n",
       "      <td>KES</td>\n",
       "      <td>1</td>\n",
       "      <td>1400.0</td>\n",
       "      <td>Gastroenteritis and colitis due to radiation</td>\n",
       "      <td>OUTPATIENT</td>\n",
       "    </tr>\n",
       "    <tr>\n",
       "      <th>170991</th>\n",
       "      <td>204549.0</td>\n",
       "      <td>Submitted</td>\n",
       "      <td>Clinic</td>\n",
       "      <td>NYERI</td>\n",
       "      <td>Insurance</td>\n",
       "      <td>OUT-PATIENT</td>\n",
       "      <td>1992-05-05</td>\n",
       "      <td>FEMALE</td>\n",
       "      <td>2021-03-25 14:17:33</td>\n",
       "      <td>NaT</td>\n",
       "      <td>SUBMITTED</td>\n",
       "      <td>Esomeprazole 40mg/Itopride 150mg capsules 30s</td>\n",
       "      <td>25.0</td>\n",
       "      <td>KES</td>\n",
       "      <td>10</td>\n",
       "      <td>250.0</td>\n",
       "      <td>Gastroenteritis and colitis due to radiation</td>\n",
       "      <td>OUTPATIENT</td>\n",
       "    </tr>\n",
       "    <tr>\n",
       "      <th>170992</th>\n",
       "      <td>204549.0</td>\n",
       "      <td>Submitted</td>\n",
       "      <td>Clinic</td>\n",
       "      <td>NYERI</td>\n",
       "      <td>Insurance</td>\n",
       "      <td>OUT-PATIENT</td>\n",
       "      <td>1992-05-05</td>\n",
       "      <td>FEMALE</td>\n",
       "      <td>2021-03-25 14:17:33</td>\n",
       "      <td>NaT</td>\n",
       "      <td>SUBMITTED</td>\n",
       "      <td>Ofloxacin/Ornidazole 200mg/500mg tablets</td>\n",
       "      <td>58.0</td>\n",
       "      <td>KES</td>\n",
       "      <td>10</td>\n",
       "      <td>580.0</td>\n",
       "      <td>Gastroenteritis and colitis due to radiation</td>\n",
       "      <td>OUTPATIENT</td>\n",
       "    </tr>\n",
       "    <tr>\n",
       "      <th>170993</th>\n",
       "      <td>204549.0</td>\n",
       "      <td>Submitted</td>\n",
       "      <td>Clinic</td>\n",
       "      <td>NYERI</td>\n",
       "      <td>Insurance</td>\n",
       "      <td>OUT-PATIENT</td>\n",
       "      <td>1992-05-05</td>\n",
       "      <td>FEMALE</td>\n",
       "      <td>2021-03-25 14:17:33</td>\n",
       "      <td>NaT</td>\n",
       "      <td>SUBMITTED</td>\n",
       "      <td>Revist Consultation</td>\n",
       "      <td>0.0</td>\n",
       "      <td>KES</td>\n",
       "      <td>1</td>\n",
       "      <td>0.0</td>\n",
       "      <td>Gastroenteritis and colitis due to radiation</td>\n",
       "      <td>OUTPATIENT</td>\n",
       "    </tr>\n",
       "    <tr>\n",
       "      <th>170994</th>\n",
       "      <td>204549.0</td>\n",
       "      <td>Submitted</td>\n",
       "      <td>Clinic</td>\n",
       "      <td>NYERI</td>\n",
       "      <td>Insurance</td>\n",
       "      <td>OUT-PATIENT</td>\n",
       "      <td>1992-05-05</td>\n",
       "      <td>FEMALE</td>\n",
       "      <td>2021-03-25 14:17:33</td>\n",
       "      <td>NaT</td>\n",
       "      <td>SUBMITTED</td>\n",
       "      <td>Consultation General Practioner</td>\n",
       "      <td>1000.0</td>\n",
       "      <td>KES</td>\n",
       "      <td>1</td>\n",
       "      <td>1000.0</td>\n",
       "      <td>Gastroenteritis and colitis due to radiation</td>\n",
       "      <td>OUTPATIENT</td>\n",
       "    </tr>\n",
       "  </tbody>\n",
       "</table>\n",
       "<p>170995 rows × 18 columns</p>\n",
       "</div>"
      ],
      "text/plain": [
       "        Serial Number claim_status provider_type provider_region program_type  \\\n",
       "0            162967.0     Approved    Specialist         NAIROBI    Insurance   \n",
       "1            162967.0     Approved    Specialist         NAIROBI    Insurance   \n",
       "2            164883.0     Approved    Specialist         NAIROBI    Insurance   \n",
       "3            164883.0     Approved    Specialist         NAIROBI    Insurance   \n",
       "4            164883.0     Approved    Specialist         NAIROBI    Insurance   \n",
       "...               ...          ...           ...             ...          ...   \n",
       "170990       204549.0    Submitted        Clinic           NYERI    Insurance   \n",
       "170991       204549.0    Submitted        Clinic           NYERI    Insurance   \n",
       "170992       204549.0    Submitted        Clinic           NYERI    Insurance   \n",
       "170993       204549.0    Submitted        Clinic           NYERI    Insurance   \n",
       "170994       204549.0    Submitted        Clinic           NYERI    Insurance   \n",
       "\n",
       "       program_cover participant_date_of_birth participant_gender  \\\n",
       "0             DENTAL                1987-12-19             FEMALE   \n",
       "1             DENTAL                1987-12-19             FEMALE   \n",
       "2             DENTAL                1977-01-01             FEMALE   \n",
       "3             DENTAL                1977-01-01             FEMALE   \n",
       "4             DENTAL                1977-01-01             FEMALE   \n",
       "...              ...                       ...                ...   \n",
       "170990   OUT-PATIENT                1992-05-05             FEMALE   \n",
       "170991   OUT-PATIENT                1992-05-05             FEMALE   \n",
       "170992   OUT-PATIENT                1992-05-05             FEMALE   \n",
       "170993   OUT-PATIENT                1992-05-05             FEMALE   \n",
       "170994   OUT-PATIENT                1992-05-05             FEMALE   \n",
       "\n",
       "       treatment_created_date claim_finalized_date item_status  \\\n",
       "0         2021-01-19 10:45:21  2021-01-19 22:38:08    APPROVED   \n",
       "1         2021-01-19 10:45:21  2021-01-19 22:38:08    APPROVED   \n",
       "2         2021-01-22 10:49:08  2021-01-28 10:48:12    APPROVED   \n",
       "3         2021-01-22 10:49:08  2021-01-28 10:48:12    APPROVED   \n",
       "4         2021-01-22 10:49:08  2021-01-28 10:48:12    APPROVED   \n",
       "...                       ...                  ...         ...   \n",
       "170990    2021-03-25 14:17:33                  NaT   SUBMITTED   \n",
       "170991    2021-03-25 14:17:33                  NaT   SUBMITTED   \n",
       "170992    2021-03-25 14:17:33                  NaT   SUBMITTED   \n",
       "170993    2021-03-25 14:17:33                  NaT   SUBMITTED   \n",
       "170994    2021-03-25 14:17:33                  NaT   SUBMITTED   \n",
       "\n",
       "                                            item_name  item_amount  \\\n",
       "0                         Simple Extraction Permanent       3000.0   \n",
       "1                                 Dental Consultation       1500.0   \n",
       "2                                 Dental consultation       1500.0   \n",
       "3                                               Iopa7       1000.0   \n",
       "4                                   Composite Filling       5000.0   \n",
       "...                                               ...          ...   \n",
       "170990            H.Pylori Antigen Detection In Stool       1400.0   \n",
       "170991  Esomeprazole 40mg/Itopride 150mg capsules 30s         25.0   \n",
       "170992      Ofloxacin/Ornidazole 200mg/500mg tablets          58.0   \n",
       "170993                            Revist Consultation          0.0   \n",
       "170994                Consultation General Practioner       1000.0   \n",
       "\n",
       "       item_currency  item_quantity  total_item_amount  \\\n",
       "0                KES              1             3000.0   \n",
       "1                KES              1             1500.0   \n",
       "2                KES              1             1500.0   \n",
       "3                KES              1             1000.0   \n",
       "4                KES              3            15000.0   \n",
       "...              ...            ...                ...   \n",
       "170990           KES              1             1400.0   \n",
       "170991           KES             10              250.0   \n",
       "170992           KES             10              580.0   \n",
       "170993           KES              1                0.0   \n",
       "170994           KES              1             1000.0   \n",
       "\n",
       "                                           diagnoses treatment_type  \n",
       "0                                      Dental caries     OUTPATIENT  \n",
       "1                                      Dental caries     OUTPATIENT  \n",
       "2                                      Dental caries     OUTPATIENT  \n",
       "3                                      Dental caries     OUTPATIENT  \n",
       "4                                      Dental caries     OUTPATIENT  \n",
       "...                                              ...            ...  \n",
       "170990  Gastroenteritis and colitis due to radiation     OUTPATIENT  \n",
       "170991  Gastroenteritis and colitis due to radiation     OUTPATIENT  \n",
       "170992  Gastroenteritis and colitis due to radiation     OUTPATIENT  \n",
       "170993  Gastroenteritis and colitis due to radiation     OUTPATIENT  \n",
       "170994  Gastroenteritis and colitis due to radiation     OUTPATIENT  \n",
       "\n",
       "[170995 rows x 18 columns]"
      ]
     },
     "execution_count": 2,
     "metadata": {},
     "output_type": "execute_result"
    }
   ],
   "source": [
    "data = pd.read_excel(\"Claims Data 2.xlsx\", parse_dates=['participant_date_of_birth', 'treatment_created_date', 'claim_finalized_date'])\n",
    "data.sample(3)"
   ]
  },
  {
   "cell_type": "code",
   "execution_count": 59,
   "id": "congressional-enclosure",
   "metadata": {},
   "outputs": [
    {
     "data": {
      "text/plain": [
       "(170995, 17)"
      ]
     },
     "execution_count": 59,
     "metadata": {},
     "output_type": "execute_result"
    }
   ],
   "source": [
    "# shape of dataset\n",
    "data.shape"
   ]
  },
  {
   "cell_type": "code",
   "execution_count": 3,
   "id": "corrected-router",
   "metadata": {},
   "outputs": [
    {
     "name": "stdout",
     "output_type": "stream",
     "text": [
      "<class 'pandas.core.frame.DataFrame'>\n",
      "RangeIndex: 170995 entries, 0 to 170994\n",
      "Data columns (total 18 columns):\n",
      " #   Column                     Non-Null Count   Dtype         \n",
      "---  ------                     --------------   -----         \n",
      " 0   Serial Number              170321 non-null  float64       \n",
      " 1   claim_status               170995 non-null  object        \n",
      " 2   provider_type              144502 non-null  object        \n",
      " 3   provider_region            167860 non-null  object        \n",
      " 4   program_type               170995 non-null  object        \n",
      " 5   program_cover              170995 non-null  object        \n",
      " 6   participant_date_of_birth  170989 non-null  datetime64[ns]\n",
      " 7   participant_gender         170989 non-null  object        \n",
      " 8   treatment_created_date     170995 non-null  datetime64[ns]\n",
      " 9   claim_finalized_date       154567 non-null  datetime64[ns]\n",
      " 10  item_status                170995 non-null  object        \n",
      " 11  item_name                  170995 non-null  object        \n",
      " 12  item_amount                170995 non-null  float64       \n",
      " 13  item_currency              170995 non-null  object        \n",
      " 14  item_quantity              170995 non-null  int64         \n",
      " 15  total_item_amount          170995 non-null  float64       \n",
      " 16  diagnoses                  166207 non-null  object        \n",
      " 17  treatment_type             170995 non-null  object        \n",
      "dtypes: datetime64[ns](3), float64(3), int64(1), object(11)\n",
      "memory usage: 23.5+ MB\n"
     ]
    }
   ],
   "source": [
    "# info\n",
    "data.info()"
   ]
  },
  {
   "cell_type": "code",
   "execution_count": 4,
   "id": "biblical-alcohol",
   "metadata": {},
   "outputs": [
    {
     "data": {
      "text/plain": [
       "Serial Number                 0.394164\n",
       "claim_status                  0.000000\n",
       "provider_type                15.493435\n",
       "provider_region               1.833387\n",
       "program_type                  0.000000\n",
       "program_cover                 0.000000\n",
       "participant_date_of_birth     0.003509\n",
       "participant_gender            0.003509\n",
       "treatment_created_date        0.000000\n",
       "claim_finalized_date          9.607298\n",
       "item_status                   0.000000\n",
       "item_name                     0.000000\n",
       "item_amount                   0.000000\n",
       "item_currency                 0.000000\n",
       "item_quantity                 0.000000\n",
       "total_item_amount             0.000000\n",
       "diagnoses                     2.800082\n",
       "treatment_type                0.000000\n",
       "dtype: float64"
      ]
     },
     "execution_count": 4,
     "metadata": {},
     "output_type": "execute_result"
    }
   ],
   "source": [
    "# missing data statistics as percentage\n",
    "data.isnull().sum() *100 / len(data)"
   ]
  },
  {
   "cell_type": "code",
   "execution_count": 11,
   "id": "green-relative",
   "metadata": {},
   "outputs": [
    {
     "data": {
      "text/plain": [
       "52187"
      ]
     },
     "execution_count": 11,
     "metadata": {},
     "output_type": "execute_result"
    }
   ],
   "source": [
    "# Serial number\n",
    "data['Serial Number'].nunique()"
   ]
  },
  {
   "cell_type": "code",
   "execution_count": 12,
   "id": "expired-grade",
   "metadata": {},
   "outputs": [
    {
     "data": {
      "text/plain": [
       "170995"
      ]
     },
     "execution_count": 12,
     "metadata": {},
     "output_type": "execute_result"
    }
   ],
   "source": [
    "len(data)"
   ]
  },
  {
   "cell_type": "markdown",
   "id": "electronic-soldier",
   "metadata": {},
   "source": [
    "Serial number column seems to be an identity column representing the customer in question.  \n",
    "So the data covers information of 52187 customers."
   ]
  },
  {
   "cell_type": "code",
   "execution_count": 5,
   "id": "english-platform",
   "metadata": {},
   "outputs": [
    {
     "name": "stdout",
     "output_type": "stream",
     "text": [
      "Approved             153549\n",
      "Submitted              7392\n",
      "PartiallyRejected      5978\n",
      "ReSubmitted            3058\n",
      "Rejected               1018\n",
      "Name: claim_status, dtype: int64\n"
     ]
    },
    {
     "data": {
      "text/plain": [
       "<AxesSubplot:xlabel='count', ylabel='claim_status'>"
      ]
     },
     "execution_count": 5,
     "metadata": {},
     "output_type": "execute_result"
    },
    {
     "data": {
      "image/png": "[encoded data removed]",
      "text/plain": [
       "<Figure size 576x432 with 1 Axes>"
      ]
     },
     "metadata": {},
     "output_type": "display_data"
    }
   ],
   "source": [
    "# claim status distribution\n",
    "print(data.claim_status.value_counts())\n",
    "plt.figure(figsize=(8,6))\n",
    "sns.countplot(y=data.claim_status)"
   ]
  },
  {
   "cell_type": "markdown",
   "id": "usual-parliament",
   "metadata": {},
   "source": [
    "Let's mark the status as _Approved_ or _Not Approved_ as this is the information the company will ultimately require to know, whether an insurance claim is either approved or not."
   ]
  },
  {
   "cell_type": "code",
   "execution_count": 6,
   "id": "european-heath",
   "metadata": {},
   "outputs": [
    {
     "name": "stdout",
     "output_type": "stream",
     "text": [
      "Approved        153549\n",
      "Not Approved     17446\n",
      "Name: claim_status, dtype: int64\n"
     ]
    },
    {
     "data": {
      "text/plain": [
       "<AxesSubplot:xlabel='claim_status', ylabel='count'>"
      ]
     },
     "execution_count": 6,
     "metadata": {},
     "output_type": "execute_result"
    },
    {
     "data": {
      "image/png": "[encoded data removed]",
      "text/plain": [
       "<Figure size 576x432 with 1 Axes>"
      ]
     },
     "metadata": {},
     "output_type": "display_data"
    }
   ],
   "source": [
    "data.claim_status.replace(['ReSubmitted', 'Submitted', 'PartiallyRejected', 'Rejected'], 'Not Approved', inplace=True)\n",
    "print(data.claim_status.value_counts())\n",
    "plt.figure(figsize=(8,6))\n",
    "sns.countplot(x=data.claim_status)"
   ]
  },
  {
   "cell_type": "markdown",
   "id": "smaller-detection",
   "metadata": {},
   "source": [
    "We can see the imbalance in these two categories. We'll have to consider and be cautious of this imbalance while building a claim status classifier.  \n",
    "We may consider one of the following techniques(after trying all and comparing the results):  \n",
    "- Oversampling\n",
    "- Undersampling\n",
    "- A mixture of both oversampling and undersampling"
   ]
  },
  {
   "cell_type": "code",
   "execution_count": 14,
   "id": "editorial-wallpaper",
   "metadata": {},
   "outputs": [
    {
     "name": "stdout",
     "output_type": "stream",
     "text": [
      "Clinic                         106374\n",
      "Hospital                        15369\n",
      "Medical Clinic/ Centre           5891\n",
      "Specialist                       4868\n",
      "Medical Centre                   4681\n",
      "Health Centre                    3706\n",
      "Nursing Home                     2052\n",
      "Medical Clinic                    833\n",
      "Clinic, Level 1                   281\n",
      "Maternity And Nursing Home        241\n",
      "Primary Hospital-Category 2        85\n",
      "Dentists                           76\n",
      "Pharmacy                           30\n",
      "Radiology Unit                     15\n",
      "Name: provider_type, dtype: int64\n"
     ]
    },
    {
     "data": {
      "text/plain": [
       "<AxesSubplot:xlabel='count', ylabel='provider_type'>"
      ]
     },
     "execution_count": 14,
     "metadata": {},
     "output_type": "execute_result"
    },
    {
     "data": {
      "image/png": "[encoded data removed]",
      "text/plain": [
       "<Figure size 576x720 with 1 Axes>"
      ]
     },
     "metadata": {},
     "output_type": "display_data"
    }
   ],
   "source": [
    "# provider type\n",
    "print(data.provider_type.value_counts())\n",
    "plt.figure(figsize=(8,10))\n",
    "sns.countplot(y=data.provider_type)"
   ]
  },
  {
   "cell_type": "markdown",
   "id": "administrative-retirement",
   "metadata": {},
   "source": [
    "Let's correct the redundancy:"
   ]
  },
  {
   "cell_type": "code",
   "execution_count": 16,
   "id": "appreciated-figure",
   "metadata": {},
   "outputs": [
    {
     "name": "stdout",
     "output_type": "stream",
     "text": [
      "Clinic            121766\n",
      "Hospital           17747\n",
      "Specialist          4868\n",
      "Dentists              76\n",
      "Pharmacy              30\n",
      "Radiology Unit        15\n",
      "Name: provider_type, dtype: int64\n"
     ]
    },
    {
     "data": {
      "text/plain": [
       "<AxesSubplot:xlabel='count', ylabel='provider_type'>"
      ]
     },
     "execution_count": 16,
     "metadata": {},
     "output_type": "execute_result"
    },
    {
     "data": {
      "image/png": "[encoded data removed]",
      "text/plain": [
       "<Figure size 576x576 with 1 Axes>"
      ]
     },
     "metadata": {},
     "output_type": "display_data"
    }
   ],
   "source": [
    "data.provider_type.replace(['Medical Clinic/ Centre', 'Medical Clinic', 'Clinic, Level 1', 'Medical Centre', 'Health Centre'],\n",
    "                           'Clinic', inplace=True)\n",
    "data.provider_type.replace(['Nursing Home', 'Maternity And Nursing Home', 'Primary Hospital-Category 2'], 'Hospital', inplace=True)\n",
    "\n",
    "print(data.provider_type.value_counts())\n",
    "plt.figure(figsize=(8,8))\n",
    "sns.countplot(y=data.provider_type)"
   ]
  },
  {
   "cell_type": "code",
   "execution_count": 24,
   "id": "continental-nirvana",
   "metadata": {},
   "outputs": [
    {
     "name": "stdout",
     "output_type": "stream",
     "text": [
      "Number of regions: 46\n",
      "\n",
      "NAIROBI            69785\n",
      "MOMBASA            15038\n",
      "KISUMU              9964\n",
      "KIAMBU              8480\n",
      "KAKAMEGA            6596\n",
      "NAKURU              4621\n",
      "BUNGOMA             4553\n",
      "KAJIADO             4206\n",
      "TRANS-NZOIA         4073\n",
      "UASIN GISHU         4033\n",
      "KISII               2954\n",
      "KERICHO             2816\n",
      "NYERI               2611\n",
      "MIGORI              2529\n",
      "MACHAKOS            2448\n",
      "KILIFI              2289\n",
      "NANDI               2198\n",
      "LAIKIPIA            2017\n",
      "MERU                1861\n",
      "GARISSA             1450\n",
      "BUSIA               1428\n",
      "SIAYA               1326\n",
      "EMBU                1297\n",
      "HOMABAY             1264\n",
      "BARINGO             1242\n",
      "KIRINYAGA           1125\n",
      "TAITA-TAVETA        1025\n",
      "KITUI                924\n",
      "TURKANA              606\n",
      "BOMET                397\n",
      "MAKUENI              383\n",
      "ISIOLO               359\n",
      "WAJIR                342\n",
      "KWALE                313\n",
      "MURANG'A\\n           285\n",
      "VIHIGA               245\n",
      "NAROK                211\n",
      "WEST POKOT           137\n",
      "MARSABIT             115\n",
      "THARAKA-NITHI         86\n",
      "LAMU                  74\n",
      "NYAMIRA               60\n",
      "SAMBURU               35\n",
      "NYANDARUA             25\n",
      "ELGEYO-MARAKWET       25\n",
      "MANDERA                9\n",
      "Name: provider_region, dtype: int64\n"
     ]
    }
   ],
   "source": [
    "# provider region\n",
    "print(f\"Number of regions: {data.provider_region.nunique()}\\n\")\n",
    "print(data.provider_region.value_counts())"
   ]
  },
  {
   "cell_type": "markdown",
   "id": "hydraulic-biodiversity",
   "metadata": {},
   "source": [
    "Region clearly represents counties."
   ]
  },
  {
   "cell_type": "code",
   "execution_count": 34,
   "id": "arctic-second",
   "metadata": {},
   "outputs": [],
   "source": [
    "# correct error in MURANG'A listing\n",
    "data.provider_region.replace(\"MURANG'A\\n\", \"MURANG'A\", inplace=True)"
   ]
  },
  {
   "cell_type": "code",
   "execution_count": 37,
   "id": "minute-behalf",
   "metadata": {},
   "outputs": [
    {
     "data": {
      "text/plain": [
       "Insurance    170995\n",
       "Name: program_type, dtype: int64"
      ]
     },
     "execution_count": 37,
     "metadata": {},
     "output_type": "execute_result"
    }
   ],
   "source": [
    "# program type\n",
    "data.program_type.value_counts()"
   ]
  },
  {
   "cell_type": "code",
   "execution_count": 38,
   "id": "wicked-conference",
   "metadata": {},
   "outputs": [],
   "source": [
    "# drop the program type column as it has only one unique value\n",
    "data.drop('program_type', axis=1, inplace=True)"
   ]
  },
  {
   "cell_type": "code",
   "execution_count": 40,
   "id": "separated-inside",
   "metadata": {},
   "outputs": [
    {
     "data": {
      "text/plain": [
       "OUT-PATIENT                                           124976\n",
       "OUTPATIENT                                             27489\n",
       "Outpatient                                              5243\n",
       "DENTAL                                                  4235\n",
       "OPTICAL                                                 2875\n",
       "outpatient                                              2135\n",
       "AAR - OP                                                1281\n",
       "OUT-PATIENT                                              965\n",
       "Out-Patient                                              296\n",
       "OUTPATIENT                                               223\n",
       "Dental                                                   205\n",
       "Out Patient                                              201\n",
       "ANNUAL MEDICAL CHECK-UP                                  165\n",
       "SPECTACLE FRAME                                          150\n",
       "Optical                                                  115\n",
       "BABY FRIENDLY VACCINES / WELL BABY CLINIC                 93\n",
       "OUTPATIENT                                                89\n",
       "AAR - Dental                                              51\n",
       "ANNUAL_CHECKUP                                            31\n",
       "AAR-Outpatient                                            31\n",
       "ANNUAL_CHECK-UP                                           24\n",
       "dental                                                    18\n",
       "Annual check up                                           16\n",
       "AAR- Checkup                                              15\n",
       "Well Baby Clinic                                          12\n",
       "VACCINES - PRIVATE VACCINES                               11\n",
       "AAR - Optical                                             11\n",
       "ANNUAL MEDICAL CHECK-UP FOR MAIN MEMBER / EMPLOYEE        10\n",
       "MATERNITY                                                  7\n",
       "BABY FRIENDLY VACCINES                                     5\n",
       "Baby Friendly                                              5\n",
       "AAR - Spectacle Frame                                      5\n",
       "ANNUAL MEDICAL CHECK-UP at AAR healthcare clinics          3\n",
       "optical                                                    2\n",
       "ANNUAL CHECKUP                                             2\n",
       "Name: program_cover, dtype: int64"
      ]
     },
     "execution_count": 40,
     "metadata": {},
     "output_type": "execute_result"
    }
   ],
   "source": [
    "# program cover\n",
    "data.program_cover.value_counts()"
   ]
  },
  {
   "cell_type": "markdown",
   "id": "careful-oklahoma",
   "metadata": {},
   "source": [
    "Remove redundancy:"
   ]
  },
  {
   "cell_type": "code",
   "execution_count": 42,
   "id": "actual-frame",
   "metadata": {},
   "outputs": [
    {
     "data": {
      "text/plain": [
       "array(['DENTAL', 'OUTPATIENT', 'OUT-PATIENT', 'AAR-Outpatient',\n",
       "       'outpatient', 'OPTICAL', 'OUT-PATIENT ', 'Dental', 'Outpatient',\n",
       "       'Annual check up', 'OUTPATIENT ', 'ANNUAL_CHECKUP', 'Out-Patient',\n",
       "       'VACCINES - PRIVATE VACCINES', 'Well Baby Clinic', 'AAR - OP',\n",
       "       'ANNUAL MEDICAL CHECK-UP', 'Out Patient',\n",
       "       'BABY FRIENDLY VACCINES / WELL BABY CLINIC', 'OUTPATIENT   ',\n",
       "       'ANNUAL MEDICAL CHECK-UP FOR MAIN MEMBER / EMPLOYEE',\n",
       "       'ANNUAL_CHECK-UP', 'dental', 'MATERNITY', 'ANNUAL CHECKUP',\n",
       "       'ANNUAL MEDICAL CHECK-UP at AAR healthcare clinics',\n",
       "       'BABY FRIENDLY VACCINES', 'Baby Friendly', 'AAR - Dental',\n",
       "       'SPECTACLE FRAME', 'Optical', 'AAR - Optical',\n",
       "       'AAR - Spectacle Frame', 'optical', 'AAR- Checkup'], dtype=object)"
      ]
     },
     "execution_count": 42,
     "metadata": {},
     "output_type": "execute_result"
    }
   ],
   "source": [
    "data.program_cover.unique()"
   ]
  },
  {
   "cell_type": "code",
   "execution_count": 43,
   "id": "infrared-greece",
   "metadata": {},
   "outputs": [
    {
     "data": {
      "text/plain": [
       "array(['DENTAL', 'OUTPATIENT', 'OPTICAL', 'ANNUAL CHECKUP',\n",
       "       'BABY FRIENDLY'], dtype=object)"
      ]
     },
     "execution_count": 43,
     "metadata": {},
     "output_type": "execute_result"
    }
   ],
   "source": [
    "data.program_cover.replace(['OUT-PATIENT', 'AAR-Outpatient', 'outpatient', 'OUT-PATIENT ', 'Outpatient', 'OUTPATIENT ',\n",
    "                           'Out-Patient', 'AAR - OP', 'Out Patient', 'OUTPATIENT   '], 'OUTPATIENT', inplace=True)\n",
    "data.program_cover.replace(['Dental', 'dental', 'AAR - Dental'], 'DENTAL', inplace=True)\n",
    "data.program_cover.replace(['Optical', 'AAR - Optical', 'optical', 'SPECTACLE FRAME', 'AAR - Spectacle Frame'], 'OPTICAL', inplace=True)\n",
    "data.program_cover.replace(['Annual check up', 'ANNUAL_CHECKUP', 'ANNUAL MEDICAL CHECK-UP',\n",
    "                            'ANNUAL MEDICAL CHECK-UP FOR MAIN MEMBER / EMPLOYEE', 'ANNUAL_CHECK-UP',\n",
    "                            'ANNUAL MEDICAL CHECK-UP at AAR healthcare clinics', 'AAR- Checkup'], 'ANNUAL CHECKUP', inplace=True)\n",
    "data.program_cover.replace(['VACCINES - PRIVATE VACCINES', 'Well Baby Clinic', 'BABY FRIENDLY VACCINES / WELL BABY CLINIC',\n",
    "                           'MATERNITY', 'BABY FRIENDLY VACCINES', 'Baby Friendly'], 'BABY FRIENDLY', inplace=True)\n",
    "\n",
    "data.program_cover.unique()"
   ]
  },
  {
   "cell_type": "code",
   "execution_count": 44,
   "id": "wooden-stress",
   "metadata": {},
   "outputs": [
    {
     "data": {
      "text/plain": [
       "<AxesSubplot:xlabel='count', ylabel='program_cover'>"
      ]
     },
     "execution_count": 44,
     "metadata": {},
     "output_type": "execute_result"
    },
    {
     "data": {
      "image/png": "[encoded data removed]",
      "text/plain": [
       "<Figure size 720x576 with 1 Axes>"
      ]
     },
     "metadata": {},
     "output_type": "display_data"
    }
   ],
   "source": [
    "plt.figure(figsize=(10,8))\n",
    "sns.countplot(y=data.program_cover)"
   ]
  },
  {
   "cell_type": "code",
   "execution_count": 55,
   "id": "broke-seeker",
   "metadata": {},
   "outputs": [
    {
     "name": "stdout",
     "output_type": "stream",
     "text": [
      "Oldest participant is 93 years old\n",
      "Date of birth: 1928-10-05 00:00:00\n"
     ]
    }
   ],
   "source": [
    "# oldest participant/customer\n",
    "print(f\"Oldest participant is {2021 - data.participant_date_of_birth.min().year} years old\\n\\\n",
    "Date of birth: {data.participant_date_of_birth.min()}\")"
   ]
  },
  {
   "cell_type": "code",
   "execution_count": 56,
   "id": "revolutionary-investor",
   "metadata": {},
   "outputs": [
    {
     "name": "stdout",
     "output_type": "stream",
     "text": [
      "Youngest participant is 0 years old\n",
      "Date of birth: 2021-07-01 00:00:00\n"
     ]
    }
   ],
   "source": [
    "# youngest\n",
    "print(f\"Youngest participant is {2021 - data.participant_date_of_birth.max().year} years old\\n\\\n",
    "Date of birth: {data.participant_date_of_birth.max()}\")"
   ]
  },
  {
   "cell_type": "markdown",
   "id": "congressional-confusion",
   "metadata": {},
   "source": [
    "New features from DOB:\n"
   ]
  },
  {
   "cell_type": "code",
   "execution_count": 61,
   "id": "played-delicious",
   "metadata": {},
   "outputs": [
    {
     "data": {
      "text/html": [
       "<div>\n",
       "<style scoped>\n",
       "    .dataframe tbody tr th:only-of-type {\n",
       "        vertical-align: middle;\n",
       "    }\n",
       "\n",
       "    .dataframe tbody tr th {\n",
       "        vertical-align: top;\n",
       "    }\n",
       "\n",
       "    .dataframe thead th {\n",
       "        text-align: right;\n",
       "    }\n",
       "</style>\n",
       "<table border=\"1\" class=\"dataframe\">\n",
       "  <thead>\n",
       "    <tr style=\"text-align: right;\">\n",
       "      <th></th>\n",
       "      <th>Serial Number</th>\n",
       "      <th>claim_status</th>\n",
       "      <th>provider_type</th>\n",
       "      <th>provider_region</th>\n",
       "      <th>program_cover</th>\n",
       "      <th>participant_date_of_birth</th>\n",
       "      <th>participant_gender</th>\n",
       "      <th>treatment_created_date</th>\n",
       "      <th>claim_finalized_date</th>\n",
       "      <th>item_status</th>\n",
       "      <th>item_name</th>\n",
       "      <th>item_amount</th>\n",
       "      <th>item_currency</th>\n",
       "      <th>item_quantity</th>\n",
       "      <th>total_item_amount</th>\n",
       "      <th>diagnoses</th>\n",
       "      <th>treatment_type</th>\n",
       "    </tr>\n",
       "  </thead>\n",
       "  <tbody>\n",
       "    <tr>\n",
       "      <th>98612</th>\n",
       "      <td>191045.0</td>\n",
       "      <td>Not Approved</td>\n",
       "      <td>Hospital</td>\n",
       "      <td>HOMABAY</td>\n",
       "      <td>OUTPATIENT</td>\n",
       "      <td>1990-01-14</td>\n",
       "      <td>FEMALE</td>\n",
       "      <td>2021-03-04 07:46:41</td>\n",
       "      <td>NaT</td>\n",
       "      <td>SUBMITTED</td>\n",
       "      <td>Haemoglobin</td>\n",
       "      <td>350.0</td>\n",
       "      <td>KES</td>\n",
       "      <td>1</td>\n",
       "      <td>350.0</td>\n",
       "      <td>Folate deficiency anaemia</td>\n",
       "      <td>OUTPATIENT</td>\n",
       "    </tr>\n",
       "    <tr>\n",
       "      <th>158472</th>\n",
       "      <td>185192.0</td>\n",
       "      <td>Approved</td>\n",
       "      <td>Clinic</td>\n",
       "      <td>NAIROBI</td>\n",
       "      <td>OUTPATIENT</td>\n",
       "      <td>1997-06-24</td>\n",
       "      <td>MALE</td>\n",
       "      <td>2021-02-24 07:46:23</td>\n",
       "      <td>2021-02-26 13:27:50</td>\n",
       "      <td>APPROVED</td>\n",
       "      <td>MALARIA PARASITES (QBC)</td>\n",
       "      <td>600.0</td>\n",
       "      <td>KES</td>\n",
       "      <td>1</td>\n",
       "      <td>600.0</td>\n",
       "      <td>Encounter for administrative examination</td>\n",
       "      <td>OUTPATIENT</td>\n",
       "    </tr>\n",
       "    <tr>\n",
       "      <th>58236</th>\n",
       "      <td>184856.0</td>\n",
       "      <td>Approved</td>\n",
       "      <td>Clinic</td>\n",
       "      <td>BUNGOMA</td>\n",
       "      <td>OUTPATIENT</td>\n",
       "      <td>1990-12-28</td>\n",
       "      <td>MALE</td>\n",
       "      <td>2021-02-23 11:30:26</td>\n",
       "      <td>2021-02-23 17:18:57</td>\n",
       "      <td>APPROVED</td>\n",
       "      <td>Consultation General Practioner</td>\n",
       "      <td>600.0</td>\n",
       "      <td>KES</td>\n",
       "      <td>1</td>\n",
       "      <td>600.0</td>\n",
       "      <td>Plasmodium falciparum malaria(uncomplicated)</td>\n",
       "      <td>OUTPATIENT</td>\n",
       "    </tr>\n",
       "  </tbody>\n",
       "</table>\n",
       "</div>"
      ],
      "text/plain": [
       "        Serial Number  claim_status provider_type provider_region  \\\n",
       "98612        191045.0  Not Approved      Hospital         HOMABAY   \n",
       "158472       185192.0      Approved        Clinic         NAIROBI   \n",
       "58236        184856.0      Approved        Clinic         BUNGOMA   \n",
       "\n",
       "       program_cover participant_date_of_birth participant_gender  \\\n",
       "98612     OUTPATIENT                1990-01-14             FEMALE   \n",
       "158472    OUTPATIENT                1997-06-24               MALE   \n",
       "58236     OUTPATIENT                1990-12-28               MALE   \n",
       "\n",
       "       treatment_created_date claim_finalized_date item_status  \\\n",
       "98612     2021-03-04 07:46:41                  NaT   SUBMITTED   \n",
       "158472    2021-02-24 07:46:23  2021-02-26 13:27:50    APPROVED   \n",
       "58236     2021-02-23 11:30:26  2021-02-23 17:18:57    APPROVED   \n",
       "\n",
       "                              item_name  item_amount item_currency  \\\n",
       "98612                       Haemoglobin        350.0           KES   \n",
       "158472          MALARIA PARASITES (QBC)        600.0           KES   \n",
       "58236   Consultation General Practioner        600.0           KES   \n",
       "\n",
       "        item_quantity  total_item_amount  \\\n",
       "98612               1              350.0   \n",
       "158472              1              600.0   \n",
       "58236               1              600.0   \n",
       "\n",
       "                                           diagnoses treatment_type  \n",
       "98612                      Folate deficiency anaemia     OUTPATIENT  \n",
       "158472      Encounter for administrative examination     OUTPATIENT  \n",
       "58236   Plasmodium falciparum malaria(uncomplicated)     OUTPATIENT  "
      ]
     },
     "execution_count": 61,
     "metadata": {},
     "output_type": "execute_result"
    }
   ],
   "source": [
    "data.sample(3)"
   ]
  },
  {
   "cell_type": "code",
   "execution_count": 70,
   "id": "unsigned-assumption",
   "metadata": {},
   "outputs": [],
   "source": [
    "# save below two cells for feature engineering"
   ]
  },
  {
   "cell_type": "code",
   "execution_count": 69,
   "id": "peaceful-scheduling",
   "metadata": {},
   "outputs": [
    {
     "ename": "ValueError",
     "evalue": "Cannot convert non-finite values (NA or inf) to integer",
     "output_type": "error",
     "traceback": [
      "\u001b[0;31m---------------------------------------------------------------------------\u001b[0m",
      "\u001b[0;31mValueError\u001b[0m                                Traceback (most recent call last)",
      "\u001b[0;32m<ipython-input-69-5a2e1732bbfa>\u001b[0m in \u001b[0;36m<module>\u001b[0;34m\u001b[0m\n\u001b[0;32m----> 1\u001b[0;31m \u001b[0mdata\u001b[0m\u001b[0;34m[\u001b[0m\u001b[0;34m'participant_yearOB'\u001b[0m\u001b[0;34m]\u001b[0m \u001b[0;34m=\u001b[0m \u001b[0mdata\u001b[0m\u001b[0;34m.\u001b[0m\u001b[0mparticipant_date_of_birth\u001b[0m\u001b[0;34m.\u001b[0m\u001b[0mdt\u001b[0m\u001b[0;34m.\u001b[0m\u001b[0myear\u001b[0m\u001b[0;34m.\u001b[0m\u001b[0mastype\u001b[0m\u001b[0;34m(\u001b[0m\u001b[0mint\u001b[0m\u001b[0;34m)\u001b[0m\u001b[0;34m\u001b[0m\u001b[0;34m\u001b[0m\u001b[0m\n\u001b[0m\u001b[1;32m      2\u001b[0m \u001b[0mdata\u001b[0m\u001b[0;34m[\u001b[0m\u001b[0;34m'participant_monthOB'\u001b[0m\u001b[0;34m]\u001b[0m \u001b[0;34m=\u001b[0m \u001b[0mdata\u001b[0m\u001b[0;34m.\u001b[0m\u001b[0mparticipant_date_of_birth\u001b[0m\u001b[0;34m.\u001b[0m\u001b[0mdt\u001b[0m\u001b[0;34m.\u001b[0m\u001b[0mmonth\u001b[0m\u001b[0;34m.\u001b[0m\u001b[0mastype\u001b[0m\u001b[0;34m(\u001b[0m\u001b[0mint\u001b[0m\u001b[0;34m)\u001b[0m\u001b[0;34m\u001b[0m\u001b[0;34m\u001b[0m\u001b[0m\n\u001b[1;32m      3\u001b[0m \u001b[0mdata\u001b[0m\u001b[0;34m[\u001b[0m\u001b[0;34m'participant_dayOB'\u001b[0m\u001b[0;34m]\u001b[0m \u001b[0;34m=\u001b[0m \u001b[0mdata\u001b[0m\u001b[0;34m.\u001b[0m\u001b[0mparticipant_date_of_birth\u001b[0m\u001b[0;34m.\u001b[0m\u001b[0mdt\u001b[0m\u001b[0;34m.\u001b[0m\u001b[0mday\u001b[0m\u001b[0;34m.\u001b[0m\u001b[0mastype\u001b[0m\u001b[0;34m(\u001b[0m\u001b[0mint\u001b[0m\u001b[0;34m)\u001b[0m\u001b[0;34m\u001b[0m\u001b[0;34m\u001b[0m\u001b[0m\n\u001b[1;32m      4\u001b[0m \u001b[0;34m\u001b[0m\u001b[0m\n\u001b[1;32m      5\u001b[0m \u001b[0mdata\u001b[0m\u001b[0;34m.\u001b[0m\u001b[0msample\u001b[0m\u001b[0;34m(\u001b[0m\u001b[0;36m3\u001b[0m\u001b[0;34m)\u001b[0m\u001b[0;34m\u001b[0m\u001b[0;34m\u001b[0m\u001b[0m\n",
      "\u001b[0;32m/usr/local/lib/python3.9/dist-packages/pandas/core/generic.py\u001b[0m in \u001b[0;36mastype\u001b[0;34m(self, dtype, copy, errors)\u001b[0m\n\u001b[1;32m   5875\u001b[0m         \u001b[0;32melse\u001b[0m\u001b[0;34m:\u001b[0m\u001b[0;34m\u001b[0m\u001b[0;34m\u001b[0m\u001b[0m\n\u001b[1;32m   5876\u001b[0m             \u001b[0;31m# else, only a single dtype is given\u001b[0m\u001b[0;34m\u001b[0m\u001b[0;34m\u001b[0m\u001b[0;34m\u001b[0m\u001b[0m\n\u001b[0;32m-> 5877\u001b[0;31m             \u001b[0mnew_data\u001b[0m \u001b[0;34m=\u001b[0m \u001b[0mself\u001b[0m\u001b[0;34m.\u001b[0m\u001b[0m_mgr\u001b[0m\u001b[0;34m.\u001b[0m\u001b[0mastype\u001b[0m\u001b[0;34m(\u001b[0m\u001b[0mdtype\u001b[0m\u001b[0;34m=\u001b[0m\u001b[0mdtype\u001b[0m\u001b[0;34m,\u001b[0m \u001b[0mcopy\u001b[0m\u001b[0;34m=\u001b[0m\u001b[0mcopy\u001b[0m\u001b[0;34m,\u001b[0m \u001b[0merrors\u001b[0m\u001b[0;34m=\u001b[0m\u001b[0merrors\u001b[0m\u001b[0;34m)\u001b[0m\u001b[0;34m\u001b[0m\u001b[0;34m\u001b[0m\u001b[0m\n\u001b[0m\u001b[1;32m   5878\u001b[0m             \u001b[0;32mreturn\u001b[0m \u001b[0mself\u001b[0m\u001b[0;34m.\u001b[0m\u001b[0m_constructor\u001b[0m\u001b[0;34m(\u001b[0m\u001b[0mnew_data\u001b[0m\u001b[0;34m)\u001b[0m\u001b[0;34m.\u001b[0m\u001b[0m__finalize__\u001b[0m\u001b[0;34m(\u001b[0m\u001b[0mself\u001b[0m\u001b[0;34m,\u001b[0m \u001b[0mmethod\u001b[0m\u001b[0;34m=\u001b[0m\u001b[0;34m\"astype\"\u001b[0m\u001b[0;34m)\u001b[0m\u001b[0;34m\u001b[0m\u001b[0;34m\u001b[0m\u001b[0m\n\u001b[1;32m   5879\u001b[0m \u001b[0;34m\u001b[0m\u001b[0m\n",
      "\u001b[0;32m/usr/local/lib/python3.9/dist-packages/pandas/core/internals/managers.py\u001b[0m in \u001b[0;36mastype\u001b[0;34m(self, dtype, copy, errors)\u001b[0m\n\u001b[1;32m    629\u001b[0m         \u001b[0mself\u001b[0m\u001b[0;34m,\u001b[0m \u001b[0mdtype\u001b[0m\u001b[0;34m,\u001b[0m \u001b[0mcopy\u001b[0m\u001b[0;34m:\u001b[0m \u001b[0mbool\u001b[0m \u001b[0;34m=\u001b[0m \u001b[0;32mFalse\u001b[0m\u001b[0;34m,\u001b[0m \u001b[0merrors\u001b[0m\u001b[0;34m:\u001b[0m \u001b[0mstr\u001b[0m \u001b[0;34m=\u001b[0m \u001b[0;34m\"raise\"\u001b[0m\u001b[0;34m\u001b[0m\u001b[0;34m\u001b[0m\u001b[0m\n\u001b[1;32m    630\u001b[0m     ) -> \"BlockManager\":\n\u001b[0;32m--> 631\u001b[0;31m         \u001b[0;32mreturn\u001b[0m \u001b[0mself\u001b[0m\u001b[0;34m.\u001b[0m\u001b[0mapply\u001b[0m\u001b[0;34m(\u001b[0m\u001b[0;34m\"astype\"\u001b[0m\u001b[0;34m,\u001b[0m \u001b[0mdtype\u001b[0m\u001b[0;34m=\u001b[0m\u001b[0mdtype\u001b[0m\u001b[0;34m,\u001b[0m \u001b[0mcopy\u001b[0m\u001b[0;34m=\u001b[0m\u001b[0mcopy\u001b[0m\u001b[0;34m,\u001b[0m \u001b[0merrors\u001b[0m\u001b[0;34m=\u001b[0m\u001b[0merrors\u001b[0m\u001b[0;34m)\u001b[0m\u001b[0;34m\u001b[0m\u001b[0;34m\u001b[0m\u001b[0m\n\u001b[0m\u001b[1;32m    632\u001b[0m \u001b[0;34m\u001b[0m\u001b[0m\n\u001b[1;32m    633\u001b[0m     def convert(\n",
      "\u001b[0;32m/usr/local/lib/python3.9/dist-packages/pandas/core/internals/managers.py\u001b[0m in \u001b[0;36mapply\u001b[0;34m(self, f, align_keys, ignore_failures, **kwargs)\u001b[0m\n\u001b[1;32m    425\u001b[0m                     \u001b[0mapplied\u001b[0m \u001b[0;34m=\u001b[0m \u001b[0mb\u001b[0m\u001b[0;34m.\u001b[0m\u001b[0mapply\u001b[0m\u001b[0;34m(\u001b[0m\u001b[0mf\u001b[0m\u001b[0;34m,\u001b[0m \u001b[0;34m**\u001b[0m\u001b[0mkwargs\u001b[0m\u001b[0;34m)\u001b[0m\u001b[0;34m\u001b[0m\u001b[0;34m\u001b[0m\u001b[0m\n\u001b[1;32m    426\u001b[0m                 \u001b[0;32melse\u001b[0m\u001b[0;34m:\u001b[0m\u001b[0;34m\u001b[0m\u001b[0;34m\u001b[0m\u001b[0m\n\u001b[0;32m--> 427\u001b[0;31m                     \u001b[0mapplied\u001b[0m \u001b[0;34m=\u001b[0m \u001b[0mgetattr\u001b[0m\u001b[0;34m(\u001b[0m\u001b[0mb\u001b[0m\u001b[0;34m,\u001b[0m \u001b[0mf\u001b[0m\u001b[0;34m)\u001b[0m\u001b[0;34m(\u001b[0m\u001b[0;34m**\u001b[0m\u001b[0mkwargs\u001b[0m\u001b[0;34m)\u001b[0m\u001b[0;34m\u001b[0m\u001b[0;34m\u001b[0m\u001b[0m\n\u001b[0m\u001b[1;32m    428\u001b[0m             \u001b[0;32mexcept\u001b[0m \u001b[0;34m(\u001b[0m\u001b[0mTypeError\u001b[0m\u001b[0;34m,\u001b[0m \u001b[0mNotImplementedError\u001b[0m\u001b[0;34m)\u001b[0m\u001b[0;34m:\u001b[0m\u001b[0;34m\u001b[0m\u001b[0;34m\u001b[0m\u001b[0m\n\u001b[1;32m    429\u001b[0m                 \u001b[0;32mif\u001b[0m \u001b[0;32mnot\u001b[0m \u001b[0mignore_failures\u001b[0m\u001b[0;34m:\u001b[0m\u001b[0;34m\u001b[0m\u001b[0;34m\u001b[0m\u001b[0m\n",
      "\u001b[0;32m/usr/local/lib/python3.9/dist-packages/pandas/core/internals/blocks.py\u001b[0m in \u001b[0;36mastype\u001b[0;34m(self, dtype, copy, errors)\u001b[0m\n\u001b[1;32m    671\u001b[0m             \u001b[0mvals1d\u001b[0m \u001b[0;34m=\u001b[0m \u001b[0mvalues\u001b[0m\u001b[0;34m.\u001b[0m\u001b[0mravel\u001b[0m\u001b[0;34m(\u001b[0m\u001b[0;34m)\u001b[0m\u001b[0;34m\u001b[0m\u001b[0;34m\u001b[0m\u001b[0m\n\u001b[1;32m    672\u001b[0m             \u001b[0;32mtry\u001b[0m\u001b[0;34m:\u001b[0m\u001b[0;34m\u001b[0m\u001b[0;34m\u001b[0m\u001b[0m\n\u001b[0;32m--> 673\u001b[0;31m                 \u001b[0mvalues\u001b[0m \u001b[0;34m=\u001b[0m \u001b[0mastype_nansafe\u001b[0m\u001b[0;34m(\u001b[0m\u001b[0mvals1d\u001b[0m\u001b[0;34m,\u001b[0m \u001b[0mdtype\u001b[0m\u001b[0;34m,\u001b[0m \u001b[0mcopy\u001b[0m\u001b[0;34m=\u001b[0m\u001b[0;32mTrue\u001b[0m\u001b[0;34m)\u001b[0m\u001b[0;34m\u001b[0m\u001b[0;34m\u001b[0m\u001b[0m\n\u001b[0m\u001b[1;32m    674\u001b[0m             \u001b[0;32mexcept\u001b[0m \u001b[0;34m(\u001b[0m\u001b[0mValueError\u001b[0m\u001b[0;34m,\u001b[0m \u001b[0mTypeError\u001b[0m\u001b[0;34m)\u001b[0m\u001b[0;34m:\u001b[0m\u001b[0;34m\u001b[0m\u001b[0;34m\u001b[0m\u001b[0m\n\u001b[1;32m    675\u001b[0m                 \u001b[0;31m# e.g. astype_nansafe can fail on object-dtype of strings\u001b[0m\u001b[0;34m\u001b[0m\u001b[0;34m\u001b[0m\u001b[0;34m\u001b[0m\u001b[0m\n",
      "\u001b[0;32m/usr/local/lib/python3.9/dist-packages/pandas/core/dtypes/cast.py\u001b[0m in \u001b[0;36mastype_nansafe\u001b[0;34m(arr, dtype, copy, skipna)\u001b[0m\n\u001b[1;32m   1066\u001b[0m \u001b[0;34m\u001b[0m\u001b[0m\n\u001b[1;32m   1067\u001b[0m         \u001b[0;32mif\u001b[0m \u001b[0;32mnot\u001b[0m \u001b[0mnp\u001b[0m\u001b[0;34m.\u001b[0m\u001b[0misfinite\u001b[0m\u001b[0;34m(\u001b[0m\u001b[0marr\u001b[0m\u001b[0;34m)\u001b[0m\u001b[0;34m.\u001b[0m\u001b[0mall\u001b[0m\u001b[0;34m(\u001b[0m\u001b[0;34m)\u001b[0m\u001b[0;34m:\u001b[0m\u001b[0;34m\u001b[0m\u001b[0;34m\u001b[0m\u001b[0m\n\u001b[0;32m-> 1068\u001b[0;31m             \u001b[0;32mraise\u001b[0m \u001b[0mValueError\u001b[0m\u001b[0;34m(\u001b[0m\u001b[0;34m\"Cannot convert non-finite values (NA or inf) to integer\"\u001b[0m\u001b[0;34m)\u001b[0m\u001b[0;34m\u001b[0m\u001b[0;34m\u001b[0m\u001b[0m\n\u001b[0m\u001b[1;32m   1069\u001b[0m \u001b[0;34m\u001b[0m\u001b[0m\n\u001b[1;32m   1070\u001b[0m     \u001b[0;32melif\u001b[0m \u001b[0mis_object_dtype\u001b[0m\u001b[0;34m(\u001b[0m\u001b[0marr\u001b[0m\u001b[0;34m)\u001b[0m\u001b[0;34m:\u001b[0m\u001b[0;34m\u001b[0m\u001b[0;34m\u001b[0m\u001b[0m\n",
      "\u001b[0;31mValueError\u001b[0m: Cannot convert non-finite values (NA or inf) to integer"
     ]
    }
   ],
   "source": [
    "data['participant_yearOB'] = data.participant_date_of_birth.dt.year.astype(int)\n",
    "data['participant_monthOB'] = data.participant_date_of_birth.dt.month.astype(int)\n",
    "data['participant_dayOB'] = data.participant_date_of_birth.dt.day.astype(int)\n",
    "\n",
    "data.sample(3)"
   ]
  },
  {
   "cell_type": "code",
   "execution_count": 68,
   "id": "sharing-walnut",
   "metadata": {},
   "outputs": [
    {
     "data": {
      "text/plain": [
       "0         weekend\n",
       "1         weekend\n",
       "2         weekend\n",
       "3         weekend\n",
       "4         weekend\n",
       "           ...   \n",
       "170990    weekday\n",
       "170991    weekday\n",
       "170992    weekday\n",
       "170993    weekday\n",
       "170994    weekday\n",
       "Name: participant_date_of_birth, Length: 170995, dtype: object"
      ]
     },
     "execution_count": 68,
     "metadata": {},
     "output_type": "execute_result"
    }
   ],
   "source": [
    "data.participant_date_of_birth.dt.day_name().map({'Monday': 'weekday', 'Tuesday': 'weekday', 'Wednesday': 'weekday',\n",
    "                                                  'Thursday': 'weekday', 'Friday': 'weekday', 'Saturday': 'weekend', 'Sunday': 'weekend'})"
   ]
  },
  {
   "cell_type": "code",
   "execution_count": null,
   "id": "remarkable-range",
   "metadata": {},
   "outputs": [],
   "source": []
  },
  {
   "cell_type": "code",
   "execution_count": 57,
   "id": "directed-conjunction",
   "metadata": {},
   "outputs": [
    {
     "name": "stdout",
     "output_type": "stream",
     "text": [
      "FEMALE    95751\n",
      "MALE      75238\n",
      "Name: participant_gender, dtype: int64\n"
     ]
    },
    {
     "data": {
      "text/plain": [
       "<AxesSubplot:xlabel='participant_gender', ylabel='count'>"
      ]
     },
     "execution_count": 57,
     "metadata": {},
     "output_type": "execute_result"
    },
    {
     "data": {
      "image/png": "[encoded data removed]",
      "text/plain": [
       "<Figure size 576x432 with 1 Axes>"
      ]
     },
     "metadata": {},
     "output_type": "display_data"
    }
   ],
   "source": [
    "# gender\n",
    "print(data.participant_gender.value_counts())\n",
    "plt.figure(figsize=(8,6))\n",
    "sns.countplot(x=data.participant_gender)"
   ]
  },
  {
   "cell_type": "code",
   "execution_count": 60,
   "id": "neural-september",
   "metadata": {},
   "outputs": [
    {
     "data": {
      "text/html": [
       "<div>\n",
       "<style scoped>\n",
       "    .dataframe tbody tr th:only-of-type {\n",
       "        vertical-align: middle;\n",
       "    }\n",
       "\n",
       "    .dataframe tbody tr th {\n",
       "        vertical-align: top;\n",
       "    }\n",
       "\n",
       "    .dataframe thead th {\n",
       "        text-align: right;\n",
       "    }\n",
       "</style>\n",
       "<table border=\"1\" class=\"dataframe\">\n",
       "  <thead>\n",
       "    <tr style=\"text-align: right;\">\n",
       "      <th></th>\n",
       "      <th>Serial Number</th>\n",
       "      <th>claim_status</th>\n",
       "      <th>provider_type</th>\n",
       "      <th>provider_region</th>\n",
       "      <th>program_cover</th>\n",
       "      <th>participant_date_of_birth</th>\n",
       "      <th>participant_gender</th>\n",
       "      <th>treatment_created_date</th>\n",
       "      <th>claim_finalized_date</th>\n",
       "      <th>item_status</th>\n",
       "      <th>item_name</th>\n",
       "      <th>item_amount</th>\n",
       "      <th>item_currency</th>\n",
       "      <th>item_quantity</th>\n",
       "      <th>total_item_amount</th>\n",
       "      <th>diagnoses</th>\n",
       "      <th>treatment_type</th>\n",
       "    </tr>\n",
       "  </thead>\n",
       "  <tbody>\n",
       "    <tr>\n",
       "      <th>103725</th>\n",
       "      <td>186593.0</td>\n",
       "      <td>Approved</td>\n",
       "      <td>NaN</td>\n",
       "      <td>KAKAMEGA</td>\n",
       "      <td>OUTPATIENT</td>\n",
       "      <td>2017-09-09</td>\n",
       "      <td>FEMALE</td>\n",
       "      <td>2021-02-25 10:43:23</td>\n",
       "      <td>2021-03-17 07:15:18</td>\n",
       "      <td>APPROVED</td>\n",
       "      <td>Cetrizine 5mg/5mls syrup 60mls</td>\n",
       "      <td>350.00</td>\n",
       "      <td>KES</td>\n",
       "      <td>1</td>\n",
       "      <td>350.0</td>\n",
       "      <td>Bronchitis; not specified as acute or chronic</td>\n",
       "      <td>OUTPATIENT</td>\n",
       "    </tr>\n",
       "    <tr>\n",
       "      <th>122360</th>\n",
       "      <td>201401.0</td>\n",
       "      <td>Approved</td>\n",
       "      <td>Clinic</td>\n",
       "      <td>NAIROBI</td>\n",
       "      <td>OUTPATIENT</td>\n",
       "      <td>2009-09-05</td>\n",
       "      <td>MALE</td>\n",
       "      <td>2021-03-17 14:23:27</td>\n",
       "      <td>2021-03-25 10:53:07</td>\n",
       "      <td>APPROVED</td>\n",
       "      <td>STOOL SALMONELLA ANTIGEN</td>\n",
       "      <td>3300.00</td>\n",
       "      <td>KES</td>\n",
       "      <td>1</td>\n",
       "      <td>3300.0</td>\n",
       "      <td>Plasmodium falciparum malaria(uncomplicated)</td>\n",
       "      <td>OUTPATIENT</td>\n",
       "    </tr>\n",
       "    <tr>\n",
       "      <th>30134</th>\n",
       "      <td>185428.0</td>\n",
       "      <td>Approved</td>\n",
       "      <td>NaN</td>\n",
       "      <td>KISUMU</td>\n",
       "      <td>OUTPATIENT</td>\n",
       "      <td>1961-03-21</td>\n",
       "      <td>MALE</td>\n",
       "      <td>2021-02-24 07:32:18</td>\n",
       "      <td>2021-03-01 15:21:58</td>\n",
       "      <td>APPROVED</td>\n",
       "      <td>Losartas HT 50mg/12.5mg Tablets 30s</td>\n",
       "      <td>18.13</td>\n",
       "      <td>KES</td>\n",
       "      <td>30</td>\n",
       "      <td>543.9</td>\n",
       "      <td>Hypertension</td>\n",
       "      <td>OUTPATIENT</td>\n",
       "    </tr>\n",
       "  </tbody>\n",
       "</table>\n",
       "</div>"
      ],
      "text/plain": [
       "        Serial Number claim_status provider_type provider_region  \\\n",
       "103725       186593.0     Approved           NaN        KAKAMEGA   \n",
       "122360       201401.0     Approved        Clinic         NAIROBI   \n",
       "30134        185428.0     Approved           NaN          KISUMU   \n",
       "\n",
       "       program_cover participant_date_of_birth participant_gender  \\\n",
       "103725    OUTPATIENT                2017-09-09             FEMALE   \n",
       "122360    OUTPATIENT                2009-09-05               MALE   \n",
       "30134     OUTPATIENT                1961-03-21               MALE   \n",
       "\n",
       "       treatment_created_date claim_finalized_date item_status  \\\n",
       "103725    2021-02-25 10:43:23  2021-03-17 07:15:18    APPROVED   \n",
       "122360    2021-03-17 14:23:27  2021-03-25 10:53:07    APPROVED   \n",
       "30134     2021-02-24 07:32:18  2021-03-01 15:21:58    APPROVED   \n",
       "\n",
       "                                  item_name  item_amount item_currency  \\\n",
       "103725       Cetrizine 5mg/5mls syrup 60mls       350.00           KES   \n",
       "122360             STOOL SALMONELLA ANTIGEN      3300.00           KES   \n",
       "30134   Losartas HT 50mg/12.5mg Tablets 30s        18.13           KES   \n",
       "\n",
       "        item_quantity  total_item_amount  \\\n",
       "103725              1              350.0   \n",
       "122360              1             3300.0   \n",
       "30134              30              543.9   \n",
       "\n",
       "                                            diagnoses treatment_type  \n",
       "103725  Bronchitis; not specified as acute or chronic     OUTPATIENT  \n",
       "122360   Plasmodium falciparum malaria(uncomplicated)     OUTPATIENT  \n",
       "30134                                    Hypertension     OUTPATIENT  "
      ]
     },
     "execution_count": 60,
     "metadata": {},
     "output_type": "execute_result"
    }
   ],
   "source": [
    "data.sample(3)"
   ]
  },
  {
   "cell_type": "code",
   "execution_count": null,
   "id": "surface-stevens",
   "metadata": {},
   "outputs": [],
   "source": []
  }
 ],
 "metadata": {
  "kernelspec": {
   "display_name": "Python 3",
   "language": "python",
   "name": "python3"
  },
  "language_info": {
   "codemirror_mode": {
    "name": "ipython",
    "version": 3
   },
   "file_extension": ".py",
   "mimetype": "text/x-python",
   "name": "python",
   "nbconvert_exporter": "python",
   "pygments_lexer": "ipython3",
   "version": "3.9.2"
  }
 },
 "nbformat": 4,
 "nbformat_minor": 5
}
